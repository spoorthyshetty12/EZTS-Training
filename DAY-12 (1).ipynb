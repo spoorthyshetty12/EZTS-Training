{
 "cells": [
  {
   "cell_type": "code",
   "execution_count": 16,
   "id": "2662dc63",
   "metadata": {},
   "outputs": [
    {
     "name": "stdout",
     "output_type": "stream",
     "text": [
      "400\n",
      "16\n",
      "16\n",
      "90\n"
     ]
    }
   ],
   "source": [
    "#lambda function\n",
    "\n",
    "def a(x):\n",
    "    return x*x\n",
    "\n",
    "def b(x):\n",
    "    return x-4\n",
    "\n",
    "B=lambda x: x-4    #can be written in main fuction too\n",
    "C=lambda x,y,z: x+y+z\n",
    "\n",
    "print(a(20))\n",
    "print(b(20))\n",
    "print(B(20))\n",
    "print(C(20,30,40))"
   ]
  },
  {
   "cell_type": "code",
   "execution_count": 22,
   "id": "d87c83b1",
   "metadata": {},
   "outputs": [
    {
     "name": "stdout",
     "output_type": "stream",
     "text": [
      "{0: 5.0, 1: 3.3333333333333335, 2: 3.0, 3: 1.75, 4: 8.0, 5: 3.0, 6: 2.0}\n",
      "[(0, 5.0), (1, 3.3333333333333335), (2, 3.0), (3, 1.75), (4, 8.0), (5, 3.0), (6, 2.0)]\n",
      "sorted using lambda function [(4, 8.0), (0, 5.0), (1, 3.3333333333333335), (2, 3.0), (5, 3.0), (6, 2.0), (3, 1.75)]\n",
      "normal sort function using lambda [(4, 8.0), (0, 5.0), (1, 3.3333333333333335), (2, 3.0), (5, 3.0), (6, 2.0), (3, 1.75)]\n"
     ]
    }
   ],
   "source": [
    "#knapsack \n",
    "#sorting method\n",
    "\n",
    "price=[5,10,15,7,8,9,4]\n",
    "weight=[1,3,5,4,1,3,2]\n",
    "n=len(price)\n",
    "pw={}\n",
    "for i in range(len(price)):\n",
    "    pw[i]=price[i]/weight[i]\n",
    "    \n",
    "print(pw)\n",
    "\n",
    "l=list(pw.items())\n",
    "print(l)\n",
    "sorted_list = sorted(l,key=lambda x: x[1],reverse=True)\n",
    "\n",
    "print(\"sorted using lambda function\",sorted_list)\n",
    "\n",
    "l.sort(key=lambda x: x[1],reverse=True)\n",
    "print(\"normal sort function using lambda\",l)\n",
    "\n",
    "# for i in range(n-1):\n",
    "#     max=i\n",
    "#     for j in range(i+1,n):\n",
    "#         if l[j][1] > l[max][1]:\n",
    "#             max=j\n",
    "#         l[i],l[max]=l[max].l[i]\n",
    "# print(l)\n",
    "            "
   ]
  },
  {
   "cell_type": "code",
   "execution_count": 16,
   "id": "f7d64977",
   "metadata": {},
   "outputs": [
    {
     "name": "stdout",
     "output_type": "stream",
     "text": [
      "51\n"
     ]
    }
   ],
   "source": [
    "#dynamic programming (recrusive way)\n",
    "\n",
    "def cal_max(p,w,c,n):\n",
    "    if n==0 or c==0:\n",
    "        return 0\n",
    "    if (w[n-1]>c):\n",
    "        return cal_max(p,w,c,n-1)\n",
    "    else:\n",
    "        return max(p[n-1]+cal_max(p,w,c-w[n-1],n-1),cal_max(p,w,c,n-1))\n",
    "    \n",
    "\n",
    "p=[5,10,15,7,8,9,4]\n",
    "w=[1,3,5,4,1,3,2]\n",
    "c=15\n",
    "n=len(p)\n",
    "print(cal_max(p,w,c,n))\n",
    "\n"
   ]
  },
  {
   "cell_type": "code",
   "execution_count": 22,
   "id": "9c61b647",
   "metadata": {},
   "outputs": [
    {
     "name": "stdout",
     "output_type": "stream",
     "text": [
      "51\n",
      "[[-1, -1, -1, -1, -1, -1, -1, -1, -1, -1, -1, -1, -1, -1, -1, -1], [-1, 5, 5, 5, 5, 5, 5, 5, 5, 5, 5, 5, 5, 5, 5, 5], [-1, 5, 5, 10, 15, 15, 15, 15, 15, 15, 15, 15, 15, 15, 15, 15], [-1, -1, -1, -1, -1, 15, 20, 20, 25, 30, 30, 30, 30, 30, 30, 30], [-1, -1, -1, -1, -1, -1, -1, -1, -1, 30, 30, 30, 32, 37, 37, 37], [-1, -1, -1, -1, -1, -1, -1, -1, -1, -1, 38, -1, 38, 40, -1, 45], [-1, -1, -1, -1, -1, -1, -1, -1, -1, -1, -1, -1, -1, 47, -1, 47], [-1, -1, -1, -1, -1, -1, -1, -1, -1, -1, -1, -1, -1, -1, -1, 51]]\n"
     ]
    }
   ],
   "source": [
    "#recursion + data storing\n",
    "\n",
    "def cal_max(p,w,c,n):\n",
    "    if n==0 or c==0:\n",
    "        return 0\n",
    "    \n",
    "    if dp[n][c]!=-1:\n",
    "        return dp[n][c]\n",
    "    \n",
    "    if (w[n-1]<=c):\n",
    "        dp[n][c]= max(p[n-1]+cal_max(p,w,c-w[n-1],n-1),cal_max(p,w,c,n-1))\n",
    "        return dp[n][c]\n",
    "    \n",
    "    else:\n",
    "        dp[n][c]=cal_max(p,w,c,n-1)\n",
    "        return dp[n][c]\n",
    "        \n",
    "    \n",
    "\n",
    "p=[5,10,15,7,8,9,4]\n",
    "w=[1,3,5,4,1,3,2]\n",
    "c=15\n",
    "n=len(p)\n",
    "dp=[[-1 for i in range(c+1)] for j in range (n+1) ]\n",
    "\n",
    "print(cal_max(p,w,c,n))\n",
    "\n",
    "print(dp)"
   ]
  },
  {
   "cell_type": "code",
   "execution_count": 9,
   "id": "09d83a50",
   "metadata": {},
   "outputs": [
    {
     "name": "stdout",
     "output_type": "stream",
     "text": [
      "[[0, 0, 4, 4, 4, 4, 4, 4, 4, 4, 4, 4, 4, 4, 4, 4], [0, 5, 5, 9, 9, 9, 9, 9, 9, 9, 9, 9, 9, 9, 9, 9], [0, 5, 5, 10, 15, 15, 19, 19, 19, 19, 19, 19, 19, 19, 19, 19], [0, 5, 5, 10, 15, 15, 20, 20, 25, 30, 30, 34, 34, 34, 34, 34], [0, 5, 5, 10, 15, 15, 20, 20, 25, 30, 30, 34, 34, 37, 37, 41], [0, 8, 13, 13, 18, 23, 23, 28, 28, 33, 38, 38, 42, 42, 45, 45], [0, 8, 13, 13, 18, 23, 23, 28, 32, 33, 38, 38, 42, 47, 47, 51], [0, 0, 0, 0, 0, 0, 0, 0, 0, 0, 0, 0, 0, 0, 0, 0]]\n",
      "51\n"
     ]
    }
   ],
   "source": [
    "p=[5,10,15,7,8,9,4]\n",
    "w=[1,3,5,4,1,3,2]\n",
    "c=15\n",
    "n=len(p)\n",
    "dp=[[0 for i in range(c+1)] for j in range (n+1) ]\n",
    "for i in range(n):\n",
    "    for c in range(c+1):\n",
    "        if i==0 or c==0:\n",
    "            dp[i][c]=0\n",
    "        if c-w[i-1]<0:\n",
    "            dp[i][c]=dp[i-1][c]\n",
    "        else:\n",
    "            dp[i][c]=max(dp[i-1][c],p[i-1]+dp[i-1][c-w[i-1]])\n",
    "print(dp)\n",
    "print(dp[i][c])"
   ]
  },
  {
   "cell_type": "code",
   "execution_count": null,
   "id": "2b1f68cd",
   "metadata": {},
   "outputs": [],
   "source": []
  }
 ],
 "metadata": {
  "kernelspec": {
   "display_name": "Python 3 (ipykernel)",
   "language": "python",
   "name": "python3"
  },
  "language_info": {
   "codemirror_mode": {
    "name": "ipython",
    "version": 3
   },
   "file_extension": ".py",
   "mimetype": "text/x-python",
   "name": "python",
   "nbconvert_exporter": "python",
   "pygments_lexer": "ipython3",
   "version": "3.11.5"
  }
 },
 "nbformat": 4,
 "nbformat_minor": 5
}
