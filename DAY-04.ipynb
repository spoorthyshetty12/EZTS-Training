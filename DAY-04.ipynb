{
 "cells": [
  {
   "cell_type": "code",
   "execution_count": 23,
   "id": "c474d83e",
   "metadata": {},
   "outputs": [
    {
     "name": "stdout",
     "output_type": "stream",
     "text": [
      "Alex , i enjoy hiking in the mountains\n",
      "{'Alex , i enjoy hiking in the mountains', 'i'}\n"
     ]
    }
   ],
   "source": [
    "user_input=input()\n",
    "name=list(map(str,user_input.split(',')))\n",
    "def most_frequent_vowel(user_input):\n",
    "    vowel='AEIOUaeiou'\n",
    "    vowel_count={v : 0 for v in vowel }\n",
    "    for char in user_input:\n",
    "        if char in vowel :\n",
    "            vowel_count[char]+=1\n",
    "    repeated_vowels=(max(vowel_count,key=vowel_count.get))\n",
    "    return repeated_vowels\n",
    "print({user_input,most_frequent_vowel(user_input)})\n",
    "# print(name)"
   ]
  },
  {
   "cell_type": "code",
   "execution_count": 4,
   "id": "96193fc1",
   "metadata": {},
   "outputs": [
    {
     "name": "stdout",
     "output_type": "stream",
     "text": [
      "{'Alex': ['I'], 'Sam': ['A'], 'Jamie': ['A', 'I'], 'Taylor': ['E'], 'Chris': ['I']}\n"
     ]
    }
   ],
   "source": [
    "def count_vowel(S):\n",
    "    dic={'A':0,'E':0,'I':0,'O':0,'U':0}\n",
    "    for i in S :\n",
    "        if i == \"a\" or i == 'A':\n",
    "            dic['A'] += 1\n",
    "        elif i == \"e\" or i == 'E':\n",
    "            dic['E'] += 1\n",
    "        elif i == \"i\" or i == 'I':\n",
    "            dic['I'] += 1\n",
    "        elif i == \"o\" or i == 'O':\n",
    "            dic['O'] += 1\n",
    "        elif i == \"u\" or i == 'U':\n",
    "            dic['U'] += 1\n",
    "    x=max(dic.values())\n",
    "    result=[]\n",
    "    for i,j in dic.items():\n",
    "        if j == x:\n",
    "            result.append(i)\n",
    "    return result\n",
    "i_p = [[\"Alex\",\"I enjoy hiking in the mountains.\"],[\"Sam\",\"Alovely sunny day at the beach.\"],\n",
    "       [\"Jamie\",\"Reading a book is my favorite pastime.\"],[\"Taylor\",\"I love playing video games on weekends.\"],\n",
    "       [\"Chris\",\"Exploring new cities is exciting and fun.\"]]\n",
    "o_p={}\n",
    "for i in i_p :\n",
    "    o_p[i[0]]=count_vowel(i[1])\n",
    "print(o_p)\n"
   ]
  },
  {
   "cell_type": "code",
   "execution_count": 21,
   "id": "1eff4a1c",
   "metadata": {},
   "outputs": [
    {
     "name": "stdout",
     "output_type": "stream",
     "text": [
      "1,2,3,4,5\n",
      "[5, 4, 3]\n"
     ]
    }
   ],
   "source": [
    "n=input()\n",
    "num=list(map(int,n.split(',')))\n",
    "sum=0\n",
    "result=[]\n",
    "for i in num:\n",
    "    #dig=max(num)\n",
    "    #print(dig)\n",
    "    sum=sum+max(num)\n",
    "    #print(sum)\n",
    "    result.append(max(num))\n",
    "    num.remove(max(num))\n",
    "print(result)"
   ]
  },
  {
   "cell_type": "code",
   "execution_count": 45,
   "id": "5f98e31e",
   "metadata": {},
   "outputs": [
    {
     "name": "stdout",
     "output_type": "stream",
     "text": [
      "17 4 6 7\n"
     ]
    }
   ],
   "source": [
    "l=[2,4,3,5,6,3,4,6,7,1,2,5]\n",
    "sum=max=0\n",
    "for i in range(0,len(l)-2):\n",
    "    for j in range(k):\n",
    "        sum=l[i]+l[i+1]+l[i+2]\n",
    "        if max<sum:\n",
    "            max=sum\n",
    "            pos=i\n",
    "print(max,l[pos],l[pos+1],l[pos+2])"
   ]
  },
  {
   "cell_type": "code",
   "execution_count": 64,
   "id": "22ec5a78",
   "metadata": {},
   "outputs": [
    {
     "name": "stdout",
     "output_type": "stream",
     "text": [
      "Enter the value of k : 4\n",
      "20\n",
      "3\n",
      "4\n",
      "6\n",
      "7\n"
     ]
    }
   ],
   "source": [
    "l=[2,4,3,5,6,3,4,6,7,1,2,5]\n",
    "sum=max=0\n",
    "k=int(input(\"Enter the value of k : \"))\n",
    "for i in range(0,len(l)-k+1):\n",
    "    sum=0\n",
    "    for j in range(0,k):\n",
    "        sum += l[i+j]\n",
    "    if max<sum:\n",
    "        max=sum\n",
    "        pos=i                                  #time complexity is n*k\n",
    "print(max)\n",
    "for j in range(0,k):\n",
    "    print(l[pos+j])"
   ]
  },
  {
   "cell_type": "code",
   "execution_count": 63,
   "id": "d8cbc3bb",
   "metadata": {},
   "outputs": [
    {
     "name": "stdout",
     "output_type": "stream",
     "text": [
      "Enter the value of k : 4\n",
      "7\n",
      "4\n"
     ]
    }
   ],
   "source": [
    "#reducing n*k time complexity to n \n",
    "l=[2,4,3,5,6,3,4,6,7,1,2,5]\n",
    "sum=max=0\n",
    "k=int(input(\"Enter the value of k : \"))\n",
    "\n",
    "for i in range(0,len(l)-2):\n",
    "    sum=0\n",
    "    #for j in range(0,k):\n",
    "    sum += l[i+j]\n",
    "    if max<sum:\n",
    "        max=sum\n",
    "        pos=i                                  \n",
    "print(max)\n",
    "#for j in range(0,k):\n",
    "print(l[pos])"
   ]
  },
  {
   "cell_type": "code",
   "execution_count": 6,
   "id": "a184cfb8",
   "metadata": {},
   "outputs": [
    {
     "name": "stdout",
     "output_type": "stream",
     "text": [
      "Enter the value : 4\n",
      "3\n",
      "4\n",
      "6\n",
      "7\n"
     ]
    }
   ],
   "source": [
    "l=[2,4,3,5,6,3,4,6,7,1,2,5,9,9,9]\n",
    "window = max = 0\n",
    "k=int(input(\"Enter the value : \"))\n",
    "for j in range (0,k):\n",
    "    window+=l[j]\n",
    "for i in range(0,len(l)-(k+1)):\n",
    "    if max<window:\n",
    "        max=window\n",
    "        pos=i\n",
    "    window=window+l[i+k]-l[i]\n",
    "for j in range(0,k):\n",
    "    print(l[pos+j])"
   ]
  },
  {
   "cell_type": "code",
   "execution_count": 10,
   "id": "7d2a38dd",
   "metadata": {},
   "outputs": [
    {
     "name": "stdout",
     "output_type": "stream",
     "text": [
      "enter the no of countinous digit : 4\n",
      "2 4 3 5 \n",
      "4 3 5 6 \n",
      "3 5 6 3 \n",
      "5 6 3 4 \n",
      "6 3 4 6 \n",
      "3 4 6 7 \n",
      "4 6 7 1 \n",
      "6 7 1 2 \n",
      "7 1 2 9 \n",
      "1 2 9 9 \n",
      "2 9 9 9 \n",
      "result\n",
      "29\n",
      "1\n",
      "2\n",
      "9\n",
      "9\n"
     ]
    }
   ],
   "source": [
    "l=[2,4,3,5,6,3,4,6,7,1,2,9,9,9]\n",
    "window = max = 0\n",
    "k=int(input(\"enter the no of countinous digit : \"))\n",
    "for j in range(0,k):\n",
    "    window+=l[j]\n",
    "#max = window\n",
    "l.append(0)\n",
    "#pos = 0\n",
    "for i in range (0,len(l)-k):\n",
    "    window = window + l[i+k] - l[i]\n",
    "    for j in range(0,k):\n",
    "        print(l[i+j],end = \" \")\n",
    "    print()\n",
    "    if max < window:\n",
    "        pos=i\n",
    "        max=window\n",
    "print(\"result\")\n",
    "print(max)\n",
    "for j in range(0,k):\n",
    "    print(l[pos+j])"
   ]
  },
  {
   "cell_type": "code",
   "execution_count": null,
   "id": "cc684e53",
   "metadata": {},
   "outputs": [],
   "source": []
  }
 ],
 "metadata": {
  "kernelspec": {
   "display_name": "Python 3 (ipykernel)",
   "language": "python",
   "name": "python3"
  },
  "language_info": {
   "codemirror_mode": {
    "name": "ipython",
    "version": 3
   },
   "file_extension": ".py",
   "mimetype": "text/x-python",
   "name": "python",
   "nbconvert_exporter": "python",
   "pygments_lexer": "ipython3",
   "version": "3.11.5"
  }
 },
 "nbformat": 4,
 "nbformat_minor": 5
}
