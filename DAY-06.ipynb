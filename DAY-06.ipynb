{
 "cells": [
  {
   "cell_type": "code",
   "execution_count": 2,
   "id": "682cff2a",
   "metadata": {},
   "outputs": [
    {
     "name": "stdout",
     "output_type": "stream",
     "text": [
      "8 2 17 4 28 9\n",
      "[2, 4, 8, 9, 17, 28]\n",
      "2\n"
     ]
    }
   ],
   "source": [
    "# Bubble Sort   --   swap first element and the min element \n",
    "l=list(map(int,input().split()))\n",
    "n=len(l)\n",
    "for i in range(0,n):\n",
    "    for j in range(0,n-1-i):\n",
    "        if l[j] > l[j+1]:\n",
    "            l[j] , l[j+1] = l[j+1] , l[j]\n",
    "print(l)\n",
    "print(l[0])"
   ]
  },
  {
   "cell_type": "code",
   "execution_count": 7,
   "id": "541486a2",
   "metadata": {},
   "outputs": [
    {
     "name": "stdout",
     "output_type": "stream",
     "text": [
      "9 7 5 8 10 26 44 3 1\n",
      "[1, 3, 5, 7, 8, 9, 10, 26, 44]\n"
     ]
    }
   ],
   "source": [
    "# Selection Sort   --   find min and put at start \n",
    "# Insertion Sort    --    inserting forcefully checking elements one by one and swapping if num is minimun \n",
    "\n",
    "l=list(map(int,input().split()))\n",
    "n=len(l)\n",
    "for j in range(0,n):\n",
    "    pos = j\n",
    "    min=l[j]\n",
    "    for i in range(j,n):\n",
    "        if l[i] < min : \n",
    "            min = l[i]\n",
    "            pos = i\n",
    "    l[j] , l[pos] = l[pos] , l[j]\n",
    "print(l)"
   ]
  },
  {
   "cell_type": "code",
   "execution_count": null,
   "id": "b79d4f55",
   "metadata": {},
   "outputs": [],
   "source": []
  },
  {
   "cell_type": "markdown",
   "id": "4a9a2e4a",
   "metadata": {},
   "source": [
    "#### RECURSION"
   ]
  },
  {
   "cell_type": "code",
   "execution_count": 13,
   "id": "09610cf0",
   "metadata": {},
   "outputs": [
    {
     "name": "stdout",
     "output_type": "stream",
     "text": [
      "0 1 2 3 4 5 6 7 8 9 "
     ]
    }
   ],
   "source": [
    "def print_num(n):\n",
    "    if n<10:\n",
    "        print(n,end=\" \")\n",
    "        print_num(n+1)\n",
    "    return\n",
    "print_num(0)"
   ]
  },
  {
   "cell_type": "code",
   "execution_count": 14,
   "id": "e61be9b5",
   "metadata": {},
   "outputs": [
    {
     "name": "stdout",
     "output_type": "stream",
     "text": [
      "9 8 7 6 5 4 3 2 1 0 "
     ]
    }
   ],
   "source": [
    "def print_num(n):\n",
    "    if n<10:\n",
    "        print_num(n+1)\n",
    "        print(n,end=\" \")\n",
    "    return\n",
    "print_num(0)"
   ]
  },
  {
   "cell_type": "code",
   "execution_count": 19,
   "id": "e7c32028",
   "metadata": {},
   "outputs": [
    {
     "name": "stdout",
     "output_type": "stream",
     "text": [
      "5\n",
      "3\n"
     ]
    }
   ],
   "source": [
    "# Fibonacci Series \n",
    "def fib(n):\n",
    "    if n == 1:\n",
    "        return 0 \n",
    "    if n == 2:\n",
    "        return 1 \n",
    "    return fib(n-1) + fib(n-2)\n",
    "\n",
    "if __name__ == \"__main__\":\n",
    "    n=int(input())\n",
    "    print(fib(n))"
   ]
  },
  {
   "cell_type": "code",
   "execution_count": 22,
   "id": "87e75bff",
   "metadata": {},
   "outputs": [
    {
     "name": "stdout",
     "output_type": "stream",
     "text": [
      "20\n",
      "4181\n",
      "[13529]\n"
     ]
    }
   ],
   "source": [
    "# Fibonacci Series (considering time complexity -- 2^n/2)\n",
    "t=[0]\n",
    "def fib(n):\n",
    "    t[0]+= 1\n",
    "    if n == 1:\n",
    "        return 0 \n",
    "    if n == 2:\n",
    "        return 1 \n",
    "    return fib(n-1) + fib(n-2)\n",
    "\n",
    "if __name__ == \"__main__\":\n",
    "    n=int(input())\n",
    "    print(fib(n))\n",
    "    print(t)"
   ]
  },
  {
   "cell_type": "code",
   "execution_count": 49,
   "id": "eaca42ff",
   "metadata": {},
   "outputs": [
    {
     "name": "stdout",
     "output_type": "stream",
     "text": [
      "4\n",
      "24\n"
     ]
    }
   ],
   "source": [
    "def fact(n):\n",
    "    if n <= 0 :\n",
    "        return 1   \n",
    "    else:\n",
    "        return n*fact(n-1)\n",
    "\n",
    "if __name__ == \"__main__\":\n",
    "    n=int(input())\n",
    "    print(fact(n))"
   ]
  },
  {
   "cell_type": "code",
   "execution_count": 54,
   "id": "c882dd2d",
   "metadata": {},
   "outputs": [
    {
     "name": "stdout",
     "output_type": "stream",
     "text": [
      "5 2 8 6 3 9 1 4\n",
      "3 0 7\n",
      "0 0 2\n",
      "1 1 2\n",
      "5 4 7\n",
      "7 6 7\n",
      "Sorted Array =  [1, 2, 3, 4, 5, 6, 8, 9]\n"
     ]
    }
   ],
   "source": [
    "# Quick Sort ( combination of selection and insertion sort in this select a pivot element consider last element as \n",
    "# pivot and place it in any one place then arrange all the smaller elements on left and bigger elements on right hand side )\n",
    "# best case - n and worst case - n logn\n",
    "# if the element is smaller than pivot increase the j and swap i and j values \n",
    "# if the element is bigger than pivot then we will do nothing\n",
    "# It is an example of TWO POINTERS\n",
    "\n",
    "def divide(L,Low,High):\n",
    "    P=L[High]\n",
    "    Pi=High\n",
    "    j=Low-1\n",
    "    for i in range(Low,High):\n",
    "        if L[i]<=P:\n",
    "            j+=1\n",
    "            L[i],L[j] = L[j],L[i]\n",
    "    j+=1\n",
    "    L[j],L[Pi]=L[Pi],L[j]\n",
    "    Pi=j\n",
    "    return Pi\n",
    "def Quick_Sort(L,Low,High):\n",
    "    if Low<High:\n",
    "        Pi=divide(L,Low,High)\n",
    "        print(Pi,Low,High)\n",
    "        Quick_Sort(L,Low,Pi-1)\n",
    "        Quick_Sort(L,Pi+1,High)\n",
    "    return\n",
    "\n",
    "if __name__==\"__main__\":\n",
    "    L=list(map(int,input().split()))\n",
    "    Quick_Sort(L,0,len(L)-1)\n",
    "    print(\"Sorted Array = \", L)"
   ]
  },
  {
   "cell_type": "code",
   "execution_count": 1,
   "id": "2ca19a45",
   "metadata": {},
   "outputs": [
    {
     "name": "stdout",
     "output_type": "stream",
     "text": [
      "4 7 8 3 2 9 1 5\n",
      "Sorted Array =  [1, 2, 3, 4, 5, 7, 8, 9]\n"
     ]
    }
   ],
   "source": [
    "def merge(left,right):\n",
    "    i=j=0\n",
    "    temp=[]\n",
    "\n",
    "    while i<len(left) and j<len(right):\n",
    "        if left[i]<right[j]:\n",
    "            temp.append(left[i])\n",
    "            i+=1\n",
    "        else:\n",
    "            temp.append(right[j])\n",
    "            j+=1\n",
    "            \n",
    "    while i<len(left):\n",
    "        temp.append(left[i])\n",
    "        i+=1\n",
    "        \n",
    "    while j<len(right):\n",
    "        temp.append(right[j])\n",
    "        j+=1\n",
    "\n",
    "    return temp\n",
    "\n",
    "def mergesort(L):\n",
    "    if len(L) <= 1:\n",
    "        return L\n",
    "        \n",
    "    mid = len(L)//2\n",
    "    left=L[:mid] \n",
    "    right=L[mid:]\n",
    "    \n",
    "    left_sorted = mergesort(left)\n",
    "    right_sorted = mergesort(right)\n",
    "    \n",
    "    return merge(left_sorted,right_sorted)\n",
    "\n",
    "\n",
    "if __name__==\"__main__\":\n",
    "    L=list(map(int,input().split())) \n",
    "    sorted=mergesort(L)\n",
    "\n",
    "    print(\"Sorted Array = \",sorted)"
   ]
  },
  {
   "cell_type": "code",
   "execution_count": 73,
   "id": "a86104d9",
   "metadata": {},
   "outputs": [
    {
     "name": "stdout",
     "output_type": "stream",
     "text": [
      "Enter numbers to sort: 5 2 8 6 3 9 1 4\n",
      "Sorted Array =  [1, 2, 3, 4, 5, 6, 8, 9]\n"
     ]
    }
   ],
   "source": [
    "def Merge(L, Low, Mid, High):\n",
    "    Left = L[Low:Mid+1]\n",
    "    Right = L[Mid+1:High+1]\n",
    "    \n",
    "    i = j = 0\n",
    "    k = Low\n",
    "    \n",
    "    while i < len(Left) and j < len(Right):\n",
    "        if Left[i] < Right[j]:\n",
    "            L[k] = Left[i]\n",
    "            i += 1\n",
    "        else:\n",
    "            L[k] = Right[j]\n",
    "            j += 1\n",
    "        k += 1\n",
    "    \n",
    "    while i < len(Left):\n",
    "        L[k] = Left[i]\n",
    "        i += 1\n",
    "        k += 1\n",
    "    \n",
    "    while j < len(Right):\n",
    "        L[k] = Right[j]\n",
    "        j += 1\n",
    "        k += 1\n",
    "\n",
    "def MergeSort(L, Low, High):\n",
    "    if Low < High:\n",
    "        Mid = Low + (High - Low) // 2\n",
    "        MergeSort(L, Low, Mid)\n",
    "        MergeSort(L, Mid + 1, High)\n",
    "        Merge(L, Low, Mid, High)\n",
    "\n",
    "if __name__ == \"__main__\":\n",
    "    L = list(map(int, input(\"Enter numbers to sort: \").split()))\n",
    "    MergeSort(L, 0, len(L) - 1)\n",
    "    print(\"Sorted Array = \", L)\n"
   ]
  },
  {
   "cell_type": "code",
   "execution_count": null,
   "id": "0b789d8c",
   "metadata": {},
   "outputs": [],
   "source": []
  }
 ],
 "metadata": {
  "kernelspec": {
   "display_name": "Python 3 (ipykernel)",
   "language": "python",
   "name": "python3"
  },
  "language_info": {
   "codemirror_mode": {
    "name": "ipython",
    "version": 3
   },
   "file_extension": ".py",
   "mimetype": "text/x-python",
   "name": "python",
   "nbconvert_exporter": "python",
   "pygments_lexer": "ipython3",
   "version": "3.11.5"
  }
 },
 "nbformat": 4,
 "nbformat_minor": 5
}
