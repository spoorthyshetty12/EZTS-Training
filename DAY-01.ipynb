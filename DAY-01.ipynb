{
 "cells": [
  {
   "cell_type": "markdown",
   "id": "5a48d130",
   "metadata": {},
   "source": [
    "### Sports equipment rental system "
   ]
  },
  {
   "cell_type": "code",
   "execution_count": 26,
   "id": "689b5b3a",
   "metadata": {},
   "outputs": [
    {
     "name": "stdout",
     "output_type": "stream",
     "text": [
      "Ball bat football basketball racket\n"
     ]
    }
   ],
   "source": [
    "list_of_items={'Ball':5,'bat':4,'football':5,'basketball':3,'racket':5}\n",
    "print(*list_of_items)\n",
    "def create():\n",
    "    print(\"\\t\\tCreating a dataset\")\n",
    "    print(\"----------------------------------------------------------\")\n",
    "    print(\"1.equip_name \\t quantity \\t condition \\t status \")\n",
    "    print(\"2.ball \\t\\t 5 \\t\\t good \\t\\t available\")\n",
    "    print(\"3.bat \\t\\t 3 \\t\\t better \\t unavailable\")\n",
    "    print(\"4.football \\t 5 \\t\\t good \\t\\t available\")\n",
    "    print(\"5.basketball \\t 4 \\t\\t good \\t\\t unavailable\")\n",
    "    print(\"6.racket \\t\\t 5 \\t\\t better \\t available\")\n",
    "def read():\n",
    "    print(\"Reading the datasets\")\n",
    "    print(\"------------------------------------------------------------\")\n",
    "    ch = int(input(\"enter your  :\"))\n",
    "    "
   ]
  },
  {
   "cell_type": "code",
   "execution_count": 45,
   "id": "b046eadc",
   "metadata": {},
   "outputs": [
    {
     "name": "stdout",
     "output_type": "stream",
     "text": [
      "[1, 2, 3, 4.5, 'asdf', 6.3, 6, 'aert', True, 99]\n"
     ]
    }
   ],
   "source": [
    "# LIST OPERATIONS:\n",
    "# append\n",
    "# insert\n",
    "# extend\n",
    "# remove\n",
    "# pop\n",
    "# sort\n",
    "# reverse\n",
    "# copy\n",
    "# clear\n",
    "# count\n",
    "# index \n",
    "L=[1,2,3,4.5,\"asdf\",6.3,6,'aert',True,99]\n",
    "print(L)\n",
    "#there is a election going on in a certain location where it uses a machine "
   ]
  },
  {
   "cell_type": "code",
   "execution_count": 21,
   "id": "a3cd6c48",
   "metadata": {},
   "outputs": [
    {
     "name": "stdout",
     "output_type": "stream",
     "text": [
      "Enter your vote : 1,2,3,4,5,1,1,1,1\n",
      "1 2 3 4 5 1 1 1 1\n",
      "5\n"
     ]
    }
   ],
   "source": [
    "user_input=input(\"Enter your vote : \")\n",
    "vote=list(map(int,user_input.split(',')))\n",
    "print(*vote)\n",
    "vote1=vote.count(1)\n",
    "vote2=vote.count(2)\n",
    "vote3=vote.count(3)\n",
    "vote4=vote.count(4)\n",
    "vote5=vote.count(5)\n",
    "vote6=vote.count(6)\n",
    "print(max(vote1,vote2,vote3,vote4,vote5,vote6))"
   ]
  },
  {
   "cell_type": "code",
   "execution_count": 24,
   "id": "9160c210",
   "metadata": {},
   "outputs": [
    {
     "name": "stdout",
     "output_type": "stream",
     "text": [
      "0\n"
     ]
    }
   ],
   "source": [
    "keyboard={'0'}\n",
    "print(*keyboard)\n",
    "s_keyboard={'0','10','2','3','4','5','6','7','8','9','00'}"
   ]
  },
  {
   "cell_type": "markdown",
   "id": "70cc720f",
   "metadata": {},
   "source": [
    "### FILE HANDLING"
   ]
  },
  {
   "cell_type": "code",
   "execution_count": 99,
   "id": "8342e50e",
   "metadata": {},
   "outputs": [],
   "source": [
    "#os gives connection btw the harddisk and the ram \n",
    "# write operation will create a file if file does not exists\n",
    "import os\n",
    "with open ('Saniya.txt','w') as Sam:\n",
    "    Sam.write(\"Name : Umme Saniya M Shaikh\\n\")\n",
    "    Sam.write(\"Usn : 3BR21AI115\\n\")\n",
    "    Sam.write(\"Branch : AIML\\n\")\n",
    "    Sam.write(\"im currently in ballari\\n\")\n",
    "    Sam.close()"
   ]
  },
  {
   "cell_type": "code",
   "execution_count": 100,
   "id": "260c8591",
   "metadata": {},
   "outputs": [
    {
     "name": "stdout",
     "output_type": "stream",
     "text": [
      "Name : Umme Saniya M Shaikh\n",
      "Usn : 3BR21AI115\n",
      "Branch : AIML\n",
      "im currently in ballari\n",
      "\n",
      "Name : Umme Saniya M Shaikh\n",
      "Usn : 3BR21AI115\n",
      "Branch : AIML\n",
      "im currently in bitm\n",
      "\n"
     ]
    }
   ],
   "source": [
    "with open ('Saniya.txt','r') as Sam:\n",
    "    s=Sam.read()\n",
    "    print(s)\n",
    "    Sam.close()\n",
    "s=s.replace(\"ballari\",\"bitm\")\n",
    "print(s)\n",
    "with open ('Saniya.txt','w') as Sam:\n",
    "    Sam.write(s)\n",
    "    Sam.close()"
   ]
  },
  {
   "cell_type": "code",
   "execution_count": 101,
   "id": "1922ea88",
   "metadata": {},
   "outputs": [],
   "source": [
    "with open ('Saniya.txt','a') as Sam:\n",
    "    Sam.write(\"How are you\\n\")\n",
    "    Sam.close()"
   ]
  },
  {
   "cell_type": "code",
   "execution_count": 102,
   "id": "db45412f",
   "metadata": {},
   "outputs": [],
   "source": [
    "# tell used to describe the location of the cursor \n",
    "# Seek used to move the cursor\n"
   ]
  },
  {
   "cell_type": "code",
   "execution_count": 103,
   "id": "f5aff853",
   "metadata": {},
   "outputs": [
    {
     "name": "stdout",
     "output_type": "stream",
     "text": [
      "0\n",
      "67\n",
      "rently in bitm\r\n",
      "How are you\r\n",
      "\n"
     ]
    }
   ],
   "source": [
    "with open ('Saniya.txt','r+b') as Sam:\n",
    "    print(Sam.tell())\n",
    "    Sam.seek(-30,2)\n",
    "    print(Sam.tell())\n",
    "    Sam.write(b\"#\")\n",
    "    print(Sam.read().decode('utf-8'))\n",
    "    Sam.close()"
   ]
  },
  {
   "cell_type": "code",
   "execution_count": 2,
   "id": "640c5290",
   "metadata": {},
   "outputs": [],
   "source": [
    "import os \n",
    "with open (\"Sports.txt\",'wb') as file:\n",
    "    eid=1\n",
    "    name=\"bat\"\n",
    "    condition=\"good\"\n",
    "    status=\"available\"\n",
    "    s=f\"{eid},{name},{condition},{status}\\n\"\n",
    "    file.write(s.encode())\n",
    "    eid=2\n",
    "    name=\"ball\"\n",
    "    condition=\"better\"\n",
    "    status=\"unavailable\"\n",
    "    s=f\"{eid},{name},{condition},{status}\\n\"\n",
    "    file.write(s.encode())\n",
    "    eid=3\n",
    "    name=\"racket\"\n",
    "    condition=\"good\"\n",
    "    status=\"available\"\n",
    "    s=f\"{eid},{name},{condition},{status}\\n\"\n",
    "    file.write(s.encode())\n",
    "    eid=4\n",
    "    name=\"basketball\"\n",
    "    condition=\"worst\"\n",
    "    status=\"available\"\n",
    "    s=f\"{eid},{name},{condition},{status}\\n\"\n",
    "    file.write(s.encode())\n",
    "    file.close()"
   ]
  },
  {
   "cell_type": "code",
   "execution_count": 178,
   "id": "188fc3ee",
   "metadata": {},
   "outputs": [
    {
     "ename": "ValueError",
     "evalue": "invalid literal for int() with base 10: '1,bat,better,available\\n'",
     "output_type": "error",
     "traceback": [
      "\u001b[1;31m---------------------------------------------------------------------------\u001b[0m",
      "\u001b[1;31mValueError\u001b[0m                                Traceback (most recent call last)",
      "Cell \u001b[1;32mIn[178], line 5\u001b[0m\n\u001b[0;32m      3\u001b[0m     \u001b[38;5;66;03m#print(s)\u001b[39;00m\n\u001b[0;32m      4\u001b[0m     file\u001b[38;5;241m.\u001b[39mclose()\n\u001b[1;32m----> 5\u001b[0m     i\u001b[38;5;241m=\u001b[39m\u001b[38;5;28mint\u001b[39m(s)\n\u001b[0;32m      6\u001b[0m \u001b[38;5;28;01mfor\u001b[39;00m i \u001b[38;5;129;01min\u001b[39;00m \u001b[38;5;28mrange\u001b[39m(s):\n\u001b[0;32m      7\u001b[0m     ch\u001b[38;5;241m=\u001b[39m\u001b[38;5;28mint\u001b[39m(\u001b[38;5;28minput\u001b[39m(\u001b[38;5;124m\"\u001b[39m\u001b[38;5;124menter eid : \u001b[39m\u001b[38;5;124m\"\u001b[39m))\n",
      "\u001b[1;31mValueError\u001b[0m: invalid literal for int() with base 10: '1,bat,better,available\\n'"
     ]
    }
   ],
   "source": [
    "with open(\"Sports.txt\",'r') as file:\n",
    "    s=file.readline()\n",
    "    #print(s)\n",
    "    file.close()\n",
    "    i=int(s)\n",
    "for i in range(s):\n",
    "    ch=int(input(\"enter eid : \"))\n",
    "    if ch==3:\n",
    "        s=s.replace(\"good\",\"better\")\n",
    "        print(s)\n",
    "    with open('Sports.txt','w') as file:\n",
    "        file.write(s)\n",
    "        file.close()"
   ]
  },
  {
   "cell_type": "code",
   "execution_count": 5,
   "id": "717dce6d",
   "metadata": {},
   "outputs": [
    {
     "name": "stdout",
     "output_type": "stream",
     "text": [
      "Cannot convert '1,bat,good,available' to an integer.\n"
     ]
    }
   ],
   "source": [
    "with open(\"Sports.txt\", 'r') as file:\n",
    "    s = file.readline().strip()\n",
    "try:\n",
    "    i = int(s)\n",
    "except ValueError:\n",
    "    print(f\"Cannot convert '{s}' to an integer.\")\n",
    "    i = 0\n",
    "\n",
    "for _ in range(i):\n",
    "    ch = int(input(\"Enter eid (enter 3 to replace 'good' with 'better'): \"))\n",
    "    if ch == 3:\n",
    "        s = s.replace(\"good\", \"better\")\n",
    "        print(s)\n",
    "with open('Sports.txt', 'w') as file:\n",
    "    file.write(s)    \n",
    "    "
   ]
  },
  {
   "cell_type": "code",
   "execution_count": null,
   "id": "038170e4",
   "metadata": {},
   "outputs": [],
   "source": []
  }
 ],
 "metadata": {
  "kernelspec": {
   "display_name": "Python 3 (ipykernel)",
   "language": "python",
   "name": "python3"
  },
  "language_info": {
   "codemirror_mode": {
    "name": "ipython",
    "version": 3
   },
   "file_extension": ".py",
   "mimetype": "text/x-python",
   "name": "python",
   "nbconvert_exporter": "python",
   "pygments_lexer": "ipython3",
   "version": "3.11.5"
  }
 },
 "nbformat": 4,
 "nbformat_minor": 5
}
