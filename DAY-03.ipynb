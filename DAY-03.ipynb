{
 "cells": [
  {
   "cell_type": "code",
   "execution_count": null,
   "id": "0becaebb",
   "metadata": {},
   "outputs": [],
   "source": []
  },
  {
   "cell_type": "code",
   "execution_count": 1,
   "id": "6a5580af",
   "metadata": {},
   "outputs": [
    {
     "name": "stdout",
     "output_type": "stream",
     "text": [
      "Enter the message : 5\n",
      "valid message.\n"
     ]
    }
   ],
   "source": [
    "#prime number \n",
    "m=int(input(\"Enter the message : \"))\n",
    "flag = 0\n",
    "if m < 1 :\n",
    "    flag = 1\n",
    "elif m == 1 :\n",
    "    flag = 0\n",
    "else:\n",
    "    for i in range(2,((m//2)+1)):\n",
    "        if m % i == 0:\n",
    "            flag = 1\n",
    "            break\n",
    "if flag == 0 :\n",
    "    print(\"valid message.\")\n",
    "else:\n",
    "    print(\"Invalid message.\")"
   ]
  },
  {
   "cell_type": "code",
   "execution_count": 2,
   "id": "d51e5969",
   "metadata": {},
   "outputs": [
    {
     "name": "stdout",
     "output_type": "stream",
     "text": [
      "Enter the number of terms : 5\n",
      "0\n",
      "1\n",
      "1\n",
      "2\n",
      "3\n"
     ]
    }
   ],
   "source": [
    "# Fibonacci series \n",
    "n=int(input(\"Enter the number of terms : \"))\n",
    "a=0\n",
    "b=1\n",
    "c=a+b\n",
    "if n ==1 :\n",
    "    print(a)\n",
    "elif n == 2:\n",
    "    print(a)\n",
    "    print(b)\n",
    "else:\n",
    "    print(a)\n",
    "    print(b)\n",
    "    for i in range(2,n):\n",
    "        print(c)\n",
    "        a=b\n",
    "        b=c\n",
    "        c=a+b"
   ]
  },
  {
   "cell_type": "code",
   "execution_count": 3,
   "id": "0b00e9bd",
   "metadata": {},
   "outputs": [],
   "source": [
    "# Palindrome "
   ]
  },
  {
   "cell_type": "code",
   "execution_count": 4,
   "id": "fbf8af59",
   "metadata": {},
   "outputs": [
    {
     "name": "stdout",
     "output_type": "stream",
     "text": [
      "Enter the integer number : 5\n"
     ]
    }
   ],
   "source": [
    "n=int(input(\"Enter the integer number : \"))\n",
    "p=0\n",
    "for i in range (n,m):\n",
    "    if p < n :\n",
    "        break\n",
    "    else :\n",
    "        flag = 0\n",
    "        if p < 1 :\n",
    "            flag = 1\n",
    "        elif p == 1 :\n",
    "            flag = 0\n",
    "        else:\n",
    "            for i in range(2,((p//2)+1)):\n",
    "                if p % i == 0:\n",
    "                    flag = 1\n",
    "                    break\n",
    "        if flag == 0 :\n",
    "            print(min(p))\n",
    "        else:\n",
    "            break"
   ]
  },
  {
   "cell_type": "code",
   "execution_count": null,
   "id": "c859fafc",
   "metadata": {},
   "outputs": [],
   "source": []
  },
  {
   "cell_type": "code",
   "execution_count": 2,
   "id": "36b6d991",
   "metadata": {},
   "outputs": [
    {
     "name": "stdout",
     "output_type": "stream",
     "text": [
      "Enter the number : 5\n",
      "77\n",
      "(7, 6, False)\n"
     ]
    }
   ],
   "source": [
    "def check_prime(m):\n",
    "    flag = 0\n",
    "    if m < 1 :\n",
    "        flag = 1\n",
    "    elif m == 1 :\n",
    "        flag = 0\n",
    "    else:\n",
    "        for i in range(2,((m//2)+1)):\n",
    "            if m % i == 0:\n",
    "                flag = 1\n",
    "                break\n",
    "    if flag == 0 :\n",
    "        return 1\n",
    "    else:\n",
    "        return 0\n",
    "    \n",
    "    \n",
    "N = int(input(\"Enter the number : \"))\n",
    "flag = 0 \n",
    "k = N + 1\n",
    "result=[]\n",
    "while flag < 1 :\n",
    "    flag = check_prime(k)\n",
    "    if flag == 1 :\n",
    "        result.append(k)\n",
    "    else:\n",
    "        k=k+1\n",
    "#print(result)\n",
    "\n",
    "sum=0\n",
    "for i in range(N+1,k):\n",
    "    sum+=i\n",
    "\n",
    "result.append(sum)\n",
    "#print(result)\n",
    "\n",
    "p1=k\n",
    "flag=0\n",
    "k=p1+1\n",
    "while flag <1:\n",
    "    flag=check_prime(k)\n",
    "    if flag == 1:\n",
    "        p2=k\n",
    "    else:\n",
    "        k=k+1\n",
    "p3=p1*p2\n",
    "print(p3)\n",
    "\n",
    "flag=check_prime(p3)\n",
    "if flag == 0 :\n",
    "    result.append(False)\n",
    "else:\n",
    "    result.append(True)\n",
    "Prime_key=tuple(result)\n",
    "print(Prime_key)"
   ]
  },
  {
   "cell_type": "code",
   "execution_count": null,
   "id": "56b31a5b",
   "metadata": {},
   "outputs": [],
   "source": [
    "Max is planning to take part in a Diwali contest at a Diwali Party that will begin at 8 PM and will run until midnight \n",
    "(12 AM) i.e., for 4 hours. The contest comprises of N problems that are arranged in order of difficulty, with problem 1 \n",
    "being the simplest and problem N being the most difficult. Max is aware that he will require 5*i minutes to solve the ith \n",
    "problem.\n",
    "\n",
    "You will be give the Start time as T. Your task is to find and return an integer value, representing the number of \n",
    "problems Max can solve and reach the party venue within the given time frame of 4 hours.\n",
    "\n",
    "Note: Max will leave his home at exactly 8 PM to reach the party venue"
   ]
  },
  {
   "cell_type": "code",
   "execution_count": null,
   "id": "866189aa",
   "metadata": {},
   "outputs": [],
   "source": [
    "time=int(input(\"enter the time \")"
   ]
  },
  {
   "cell_type": "code",
   "execution_count": null,
   "id": "7024a857",
   "metadata": {},
   "outputs": [],
   "source": []
  }
 ],
 "metadata": {
  "kernelspec": {
   "display_name": "Python 3 (ipykernel)",
   "language": "python",
   "name": "python3"
  },
  "language_info": {
   "codemirror_mode": {
    "name": "ipython",
    "version": 3
   },
   "file_extension": ".py",
   "mimetype": "text/x-python",
   "name": "python",
   "nbconvert_exporter": "python",
   "pygments_lexer": "ipython3",
   "version": "3.11.5"
  }
 },
 "nbformat": 4,
 "nbformat_minor": 5
}
