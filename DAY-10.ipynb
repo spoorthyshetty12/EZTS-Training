{
 "cells": [
  {
   "cell_type": "markdown",
   "id": "81da7673",
   "metadata": {},
   "source": [
    "# greedy algorithm"
   ]
  },
  {
   "cell_type": "code",
   "execution_count": 4,
   "id": "f12cf363",
   "metadata": {},
   "outputs": [
    {
     "name": "stdout",
     "output_type": "stream",
     "text": [
      "[5.0, 3.3333333333333335, 3.0, 1.75, 8.0, 3.0, 2.0]\n",
      "51\n"
     ]
    }
   ],
   "source": [
    "price=[5,10,15,7,8,9,4]\n",
    "weight=[1,3,5,4,1,3,2]\n",
    "max_weight=15\n",
    "profit=0\n",
    "x=[]\n",
    "for i in range(len(price)):\n",
    "    x.append(price[i]/weight[i])\n",
    "print(x)\n",
    "while max_weight!=0:\n",
    "    index=x.index(max(x))\n",
    "    max_weight-=weight[index]\n",
    "    profit+=price[index]\n",
    "    x.pop(index)\n",
    "    price.pop(index)\n",
    "    weight.pop(index)\n",
    "\n",
    "print(profit)\n",
    "    \n",
    "    "
   ]
  },
  {
   "cell_type": "code",
   "execution_count": 1,
   "id": "6f0eb368",
   "metadata": {},
   "outputs": [
    {
     "name": "stdout",
     "output_type": "stream",
     "text": [
      "price:20,10,6,9,18,12,16,30,15\n",
      "weight:4,5,6,3,2,5,4,6,6\n",
      "max_weight:30\n",
      "[5.0, 2.0, 1.0, 3.0, 9.0, 2.4, 4.0, 5.0, 2.5]\n",
      "120.0\n"
     ]
    }
   ],
   "source": [
    "price=list(map(float,input(\"price:\").split(',')))\n",
    "weight=list(map(float,input(\"weight:\").split(',')))\n",
    "max_weight=int(input(\"max_weight:\"))\n",
    "profit=0\n",
    "x=[]\n",
    "for i in range(len(price)):\n",
    "    x.append(price[i]/weight[i])\n",
    "print(x)\n",
    "while max_weight!=0:\n",
    "    index=x.index(max(x))\n",
    "    max_weight-=weight[index]\n",
    "    profit+=price[index]\n",
    "    x.pop(index)\n",
    "    price.pop(index)\n",
    "    weight.pop(index)\n",
    "\n",
    "print(profit)"
   ]
  },
  {
   "cell_type": "code",
   "execution_count": null,
   "id": "426b02fd",
   "metadata": {},
   "outputs": [],
   "source": []
  }
 ],
 "metadata": {
  "kernelspec": {
   "display_name": "Python 3 (ipykernel)",
   "language": "python",
   "name": "python3"
  },
  "language_info": {
   "codemirror_mode": {
    "name": "ipython",
    "version": 3
   },
   "file_extension": ".py",
   "mimetype": "text/x-python",
   "name": "python",
   "nbconvert_exporter": "python",
   "pygments_lexer": "ipython3",
   "version": "3.11.5"
  }
 },
 "nbformat": 4,
 "nbformat_minor": 5
}
