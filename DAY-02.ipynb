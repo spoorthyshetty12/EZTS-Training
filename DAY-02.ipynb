{
 "cells": [
  {
   "cell_type": "markdown",
   "id": "1fa4a89c",
   "metadata": {},
   "source": [
    "#### OOPS\n",
    "#a program can be solved in more than one way if we go for an optimal solution then it will be solved only in one way"
   ]
  },
  {
   "cell_type": "code",
   "execution_count": 1,
   "id": "e65ce83b",
   "metadata": {},
   "outputs": [
    {
     "name": "stdout",
     "output_type": "stream",
     "text": [
      "Sam 20 F\n"
     ]
    }
   ],
   "source": [
    "class Student :\n",
    "    def __init__(self,nm,ag,gn): #__ is for private, self keyword is used to locate the current calling object of the class \n",
    "        self.name=nm\n",
    "        self.age=ag\n",
    "        self.gender=gn\n",
    "st1=Student(\"Sam\",20,'F')   #st1 is a type of class student      \n",
    "print(st1.name,st1.age,st1.gender)"
   ]
  },
  {
   "cell_type": "code",
   "execution_count": 11,
   "id": "c31fa34a",
   "metadata": {},
   "outputs": [
    {
     "name": "stdout",
     "output_type": "stream",
     "text": [
      "Enter your name : saniya\n",
      "Enter your age : 20\n",
      "Enter your gender : f\n",
      "saniya 20 f\n"
     ]
    }
   ],
   "source": [
    "class Stu :\n",
    "    def __init__(self):\n",
    "        self.name=None\n",
    "        self.age=None\n",
    "        self.gender=None\n",
    "std2=Stu()\n",
    "std2.name=input(\"Enter your name : \")\n",
    "std2.age=int(input(\"Enter your age : \"))\n",
    "std2.gender=input(\"Enter your gender : \")\n",
    "print(std2.name,std2.age,std2.gender)"
   ]
  },
  {
   "cell_type": "code",
   "execution_count": 12,
   "id": "ff6fce47",
   "metadata": {},
   "outputs": [
    {
     "name": "stdout",
     "output_type": "stream",
     "text": [
      "Enter your name : saniya\n",
      "Enter your age : 20\n",
      "Enter your gender : f\n",
      "saniya 20 f\n",
      "<class '__main__.STUDENT'>\n"
     ]
    }
   ],
   "source": [
    "class STUDENT :\n",
    "    def __init__(self,nm,ag,gn): \n",
    "        self.name=nm\n",
    "        self.age=ag\n",
    "        self.gender=gn\n",
    "a=input(\"Enter your name : \")\n",
    "b=int(input(\"Enter your age : \"))\n",
    "c=input(\"Enter your gender : \")\n",
    "std3 = STUDENT(a,b,c)\n",
    "print(std3.name,std3.age,std3.gender)\n",
    "print(type(std3))"
   ]
  },
  {
   "cell_type": "code",
   "execution_count": 30,
   "id": "c187ab6d",
   "metadata": {},
   "outputs": [
    {
     "name": "stdout",
     "output_type": "stream",
     "text": [
      "This is class A function 1\n",
      "This is class B function 2\n",
      "This is class B function 3\n"
     ]
    }
   ],
   "source": [
    "class A:\n",
    "    def fun1(self):\n",
    "        print(\"This is class A function 1\")\n",
    "        \n",
    "class B(A):\n",
    "    def fun2(self):\n",
    "        print(\"This is class B function 2\")\n",
    "    def fun3(self):\n",
    "        print(\"This is class B function 3\")\n",
    "ob1=A()\n",
    "ob2=B()\n",
    "ob2.fun1()\n",
    "ob2.fun2()\n",
    "ob2.fun3()"
   ]
  },
  {
   "cell_type": "code",
   "execution_count": 47,
   "id": "4d7a9d64",
   "metadata": {},
   "outputs": [
    {
     "name": "stdout",
     "output_type": "stream",
     "text": [
      "5\n",
      "2 None\n",
      "5\n",
      "None\n"
     ]
    }
   ],
   "source": [
    "class A:\n",
    "    def __init__(self,a,b):\n",
    "        self.A=a\n",
    "        self.__B=b\n",
    "    def printB(self):\n",
    "        print(self.__B)\n",
    "\n",
    "ob1=A(2,5)\n",
    "print(ob1.A,ob1.printB())\n",
    "print(ob1.printB())"
   ]
  },
  {
   "cell_type": "code",
   "execution_count": 57,
   "id": "a7d40097",
   "metadata": {},
   "outputs": [
    {
     "name": "stdout",
     "output_type": "stream",
     "text": [
      "Enter your name : s\n",
      "Enter your usn : 11\n",
      "Enter your marks : 88\n",
      "Enter your marks : 99\n",
      "s 11 88 99\n"
     ]
    }
   ],
   "source": [
    "#Create a student class that holds the details of students like name usn and the marks in 5 subjects percentage and grade\n",
    "#create 5 student object and get the data for name usn and marks after that find the percentage and grade and store it \n",
    "#to the class object\n",
    "\n",
    "\n",
    "\n",
    "class Student :\n",
    "    def __init__(self):\n",
    "        self.name=None\n",
    "        self.usn=None\n",
    "        self.marks=None\n",
    "std1=Student()\n",
    "std1.name=input(\"Enter your name : \")\n",
    "std1.usn=input(\"Enter your usn : \")\n",
    "std1.marks1=int(input(\"Enter your marks : \"))\n",
    "std1.marks2=int(input(\"Enter your marks : \"))\n",
    "print(std1.name,std1.usn,std1.marks1,std1.marks2)\n",
    "\n",
    "# std2=Student()\n",
    "# std2.name=input(\"Enter your name : \")\n",
    "# std2.usn=input(\"Enter your usn : \")\n",
    "# std2.marks=input(\"Enter your marks : \")\n",
    "\n",
    "# std3=Student()\n",
    "# std3.name=input(\"Enter your name : \")\n",
    "# std3.usn=input(\"Enter your usn : \")\n",
    "# std3.marks=input(\"Enter your marks : \")\n",
    "\n",
    "# std4=Student()\n",
    "# std4.name=input(\"Enter your name : \")\n",
    "# std4.usn=input(\"Enter your usn : \")\n",
    "# std4.marks=input(\"Enter your marks : \")\n",
    "\n",
    "# std5=Student()\n",
    "# std5.name=input(\"Enter your name : \")\n",
    "# std5.usn=input(\"Enter your usn : \")\n",
    "# std5.marks=input(\"Enter your marks : \")\n",
    "#per=((std1.marks1+std1.marks2)/200)*100\n",
    "# print(std1.name,std1.usn,std1.marks1,std1.marks2,std1.per)\n",
    "# print(std2.name,std2.usn,std2.marks)\n",
    "# print(std3.name,std3.usn,std3.marks)\n",
    "# print(std4.name,std4.usn,std4.marks)\n",
    "# print(std5.name,std5.usn,std5.marks)"
   ]
  },
  {
   "cell_type": "code",
   "execution_count": 6,
   "id": "ebad8d2e",
   "metadata": {},
   "outputs": [
    {
     "name": "stdout",
     "output_type": "stream",
     "text": [
      "Enter your name : s\n",
      "Enter your usn : 1\n",
      "enter the marks scored in 5 subjects 10 20 30 40 50\n",
      "s 1 [10, 20, 30, 40, 50]\n",
      "30.0\n",
      "C\n"
     ]
    }
   ],
   "source": [
    "class Student :\n",
    "    def __init__(self):\n",
    "        self.name=None\n",
    "        self.usn=None\n",
    "        self.marks=None\n",
    "        self.per=None\n",
    "    for _ in range(0,1):\n",
    "        #std=Student()\n",
    "        name=input(\"Enter your name : \")\n",
    "        usn=input(\"Enter your usn : \")\n",
    "        marks=list(map(int,input(\"enter the marks scored in 5 subjects \").split(\" \")))\n",
    "        print(name,usn,marks)\n",
    "        per=((sum(marks)/500))*100\n",
    "        print(per)\n",
    "        if 90<=per<=100 :\n",
    "            print(\"A+\")\n",
    "        elif 80<=per<90:\n",
    "            print(\"A\")\n",
    "        elif 70<=per<80:\n",
    "            print(\"B+\")\n",
    "        elif 60<=per<70:\n",
    "            print(\"B\")\n",
    "        elif 40<=per<=50:\n",
    "            print(\"C+\")\n",
    "        else:\n",
    "            print(\"C\")\n",
    "std1=Student() "
   ]
  },
  {
   "cell_type": "code",
   "execution_count": null,
   "id": "8bcdfc01",
   "metadata": {},
   "outputs": [],
   "source": [
    "class Std :\n",
    "    def __init__(self):\n",
    "        self.__usn=None\n",
    "        self.__name=None\n",
    "        self.__marks=None\n",
    "        self.__percentage=None\n",
    "        self.__grade=None\n",
    "        \n",
    "    def take_input():\n",
    "        self.__name=input(\"Enter your name : \")\n",
    "        self.__usn=input(\"Enter your usn : \")\n",
    "        for i in range(marks):\n",
    "            self.__marks = f{\"enter the marks for subject {i+1} \"}\n",
    "            \n",
    "    def calc_percentage():\n",
    "        sum=0\n",
    "        per=self.__percentage\n",
    "        for i in range(marks):\n",
    "            sum=sum+int(i)\n",
    "        per=(sum/500)*100\n",
    "    \n",
    "    def cal_grade():\n",
    "        if 80<=per<=100 :\n",
    "            __self.grade=\"\"A\"\n",
    "        elif 60<=per<80:\n",
    "            __self.grade=\"\"B\"\n",
    "        elif 40<=per<60:\n",
    "            __self.grade=\"\"C\"\n",
    "        elif 0<=per<40:\n",
    "            __self.grade=\"D\"\n",
    "        else:\n",
    "            __self.grade=\"invalid\"\n",
    "    \n",
    "    def print_details():\n",
    "        print()"
   ]
  },
  {
   "cell_type": "code",
   "execution_count": 1,
   "id": "56b1ec1f",
   "metadata": {},
   "outputs": [
    {
     "name": "stdout",
     "output_type": "stream",
     "text": [
      "<class '__main__.Std'>\n",
      "Enter your Name: saniya\n",
      "Enter Your USN: 3BR21AI115\n",
      "Enter Your Marks in Sub1 : 99\n",
      "Enter Your Marks in Sub2 : 98\n",
      "Enter Your Marks in Sub3 : 97\n",
      "Enter Your Marks in Sub4 : 98\n",
      "Enter Your Marks in Sub5 : 99\n",
      "Name:  saniya\n",
      "USN :  3BR21AI115\n",
      "Marks in Five Subject are :\n",
      "Subject 1 = 99\n",
      "Subject 2 = 98\n",
      "Subject 3 = 97\n",
      "Subject 4 = 98\n",
      "Subject 5 = 99\n",
      "Percentage :  98.2\n",
      "Grade :  A\n"
     ]
    }
   ],
   "source": [
    "class Std:\n",
    "    def __init__(self): \n",
    "        self.__USN = None\n",
    "        self.__Name = None\n",
    "        self.__Marks = []\n",
    "        self.__Percentage = None\n",
    "        self.__Grade = None\n",
    "\n",
    "    def Std_Input(self):\n",
    "        self.__Name = input(\"Enter your Name: \")\n",
    "        self.__USN = input(\"Enter Your USN: \")\n",
    "        for i in range (0,5):\n",
    "            marks = input(f\"Enter Your Marks in Sub{i+1} : \")\n",
    "            self.__Marks.append(marks)\n",
    "\n",
    "    def calc_percentage (self):\n",
    "        sum = 0\n",
    "        for i in self.__Marks:\n",
    "            sum = sum + int(i)\n",
    "        self.__Percentage = (sum/500)*100\n",
    "\n",
    "    def calc_Grade(self):\n",
    "        per = float(self.__Percentage)\n",
    "        if per<=100 and per >=80:\n",
    "            self.__Grade = \"A\"\n",
    "        elif per<80 and per >=60:\n",
    "            self.__Grade = \"B\"\n",
    "        elif per<60 and per >=40:\n",
    "            self.__Grade = \"C\"\n",
    "        elif per<40 and per >=0:\n",
    "            self.__Grade = \"D\"\n",
    "        else: \n",
    "            self.__Grade = \"Inavlid\"\n",
    "\n",
    "    def print_details(self):\n",
    "        print(\"Name: \",self.__Name)\n",
    "        print(\"USN : \",self.__USN)\n",
    "        print(\"Marks in Five Subject are :\")\n",
    "        for i in range(0,5):\n",
    "            print(f\"Subject {i+1} = {self.__Marks[i]}\")\n",
    "        print(\"Percentage : \", self.__Percentage)\n",
    "        print(\"Grade : \", self.__Grade)\n",
    "\n",
    "    def convert_list(self):\n",
    "        st_list = [self.__USN,self.__Name,self.__Marks,self.__Percentage,self.__Grade]\n",
    "        return st_list\n",
    "\n",
    "    def covert_ob(self,stu_list):\n",
    "        self.__USN = stu_list[0]\n",
    "        self.__Name = stu_list[1]\n",
    "        self.__Marks = stu_list[2]\n",
    "        self.__Percentage = stu_list[3]\n",
    "        self.__Grade = stu_list[4]\n",
    "\n",
    "\n",
    "\n",
    "st1 = Std()\n",
    "\n",
    "print(type(st1))\n",
    "\n",
    "st1.Std_Input()\n",
    "\n",
    "st1.calc_percentage()\n",
    "st1.calc_Grade()\n",
    "\n",
    "st1.print_details()"
   ]
  },
  {
   "cell_type": "code",
   "execution_count": 2,
   "id": "8fb46312",
   "metadata": {},
   "outputs": [],
   "source": [
    "with open(\"student.txt\",'wb') as File:\n",
    "    L=st1.convert_list()\n",
    "    data = f\"{L[0]}|{L[1]}|{L[2][0]},{L[2][1]},{L[2][2]},{L[2][3]},{L[2][4]}|{L[3]}|{L[4]}\\n\"\n",
    "    File.write(data.encode())\n",
    "    File.close()"
   ]
  },
  {
   "cell_type": "code",
   "execution_count": 4,
   "id": "4886a1c9",
   "metadata": {},
   "outputs": [
    {
     "name": "stdout",
     "output_type": "stream",
     "text": [
      "3BR21AI115|saniya|99,98,97,98,99|98.2|A\n",
      "\n",
      "['3BR21AI115', 'saniya', ['99', '98', '97', '98', '99'], '98.2', 'A\\n']\n",
      "Name:  saniya\n",
      "USN :  3BR21AI115\n",
      "Marks in Five Subject are :\n",
      "Subject 1 = 99\n",
      "Subject 2 = 98\n",
      "Subject 3 = 97\n",
      "Subject 4 = 98\n",
      "Subject 5 = 99\n",
      "Percentage :  98.2\n",
      "Grade :  A\n",
      "\n"
     ]
    }
   ],
   "source": [
    "stu_list=[]\n",
    "\n",
    "with open(\"student.txt\",'rb') as File:\n",
    "    data = File.readline().decode('utf-8')\n",
    "    print(data)\n",
    "    for i in data.split(\"|\"):\n",
    "        stu_list.append(i)\n",
    "    mrks=stu_list[2]\n",
    "    mrks_list = []\n",
    "    for i in mrks.split(','):\n",
    "        mrks_list.append(i)\n",
    "    stu_list[2]=mrks_list\n",
    "\n",
    "\n",
    "print(stu_list)\n",
    "st2=Std()\n",
    "st2.covert_ob(stu_list)\n",
    "st2.print_details()"
   ]
  },
  {
   "cell_type": "code",
   "execution_count": 4,
   "id": "469ca443",
   "metadata": {},
   "outputs": [
    {
     "name": "stdout",
     "output_type": "stream",
     "text": [
      "Enter your eid_no: 1\n",
      "Enter your equipment: a\n",
      "Enter Your condition: s\n",
      "Enter your status: d\n",
      "Enter your eid_no: 2\n",
      "Enter your equipment: f\n",
      "Enter Your condition: g\n",
      "Enter your status: 3\n",
      "eid_no:  2\n",
      "equipment :  f\n",
      "condition :  g\n",
      "status :  3\n"
     ]
    }
   ],
   "source": [
    "class Sports:\n",
    "    def __init__(self): \n",
    "        self.__eid_no = None\n",
    "        self.__equipment = None\n",
    "        self.__condition = None\n",
    "        self.__status = None\n",
    "    def Sports_Input(self):\n",
    "        self.__eid_no = input(\"Enter your eid_no: \")\n",
    "        self.__equipment = input(\"Enter your equipment: \")\n",
    "        self.__condition = input(\"Enter Your condition: \")\n",
    "        self.__status = input(\"Enter your status: \")\n",
    "    def print_details(self):\n",
    "        print(\"eid_no: \",self.__eid_no)\n",
    "        print(\"equipment : \",self.__equipment)\n",
    "        print(\"condition : \",self.__condition)\n",
    "        print(\"status : \",self.__status)\n",
    "spt=Sports()\n",
    "for i in range (0,2):\n",
    "    spt.Sports_Input()\n",
    "spt.print_details()"
   ]
  },
  {
   "cell_type": "code",
   "execution_count": null,
   "id": "d7042630",
   "metadata": {},
   "outputs": [],
   "source": []
  }
 ],
 "metadata": {
  "kernelspec": {
   "display_name": "Python 3 (ipykernel)",
   "language": "python",
   "name": "python3"
  },
  "language_info": {
   "codemirror_mode": {
    "name": "ipython",
    "version": 3
   },
   "file_extension": ".py",
   "mimetype": "text/x-python",
   "name": "python",
   "nbconvert_exporter": "python",
   "pygments_lexer": "ipython3",
   "version": "3.11.5"
  }
 },
 "nbformat": 4,
 "nbformat_minor": 5
}
