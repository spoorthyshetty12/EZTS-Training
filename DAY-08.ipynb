{
 "cells": [
  {
   "cell_type": "code",
   "execution_count": 29,
   "id": "f419b790",
   "metadata": {},
   "outputs": [
    {
     "name": "stdout",
     "output_type": "stream",
     "text": [
      "4\n",
      "8\n",
      "6\n",
      "3\n",
      "5\n",
      "7\n",
      "2\n",
      "1\n"
     ]
    }
   ],
   "source": [
    "#GRAPH\n",
    "\n",
    "def dfs(A,V,S,E):\n",
    "    if V[E]=='F':\n",
    "        S.append(E)\n",
    "        V[E]='T'\n",
    "    else:\n",
    "        return\n",
    "    for i in A[E]:\n",
    "        dfs(A,V,S,i[1])\n",
    "    print(S.pop())\n",
    "    \n",
    "V={1:'F',2:'F',3:'F',4:'F',5:'F',6:'F',7:'F',8:'F'}\n",
    "S=[]\n",
    "A = {\n",
    "    1:([(1,2,0),(1,3,0)]),\n",
    "    2:([(2,1,0),(2,7,0)]),\n",
    "    3:([(3,1,0),(3,6,0),(3,5,0)]),\n",
    "    4:([(4,7,0),(4,8,0)]),\n",
    "    5:([(5,3,0),(5,7,0)]),\n",
    "    6:([(6,3,0),(6,8,0)]),\n",
    "    7:([(7,2,0),(7,5,0),(7,4,0)]),\n",
    "    8:([(8,4,0),(8,6,0)])\n",
    "    }\n",
    "\n",
    "dfs(A,V,S,1)   #starting element 1"
   ]
  },
  {
   "cell_type": "code",
   "execution_count": 1,
   "id": "b1901844",
   "metadata": {},
   "outputs": [
    {
     "name": "stdout",
     "output_type": "stream",
     "text": [
      "5\n",
      "3\n",
      "6\n",
      "8\n",
      "4\n",
      "7\n",
      "2\n",
      "1\n"
     ]
    }
   ],
   "source": [
    "#graph dfs\n",
    "#if we take input in ascending order\n",
    "\n",
    "def dfs(A,V,S,E):\n",
    "    if V[E]=='F':\n",
    "        S.append(E)\n",
    "        V[E]='T'\n",
    "    else:\n",
    "        return\n",
    "    for i in A[E]:\n",
    "        dfs(A,V,S,i[1])\n",
    "    print(S.pop())\n",
    "    \n",
    "V={1:'F',2:'F',3:'F',4:'F',5:'F',6:'F',7:'F',8:'F'}\n",
    "S=[]\n",
    "A = {\n",
    "    1:([(1,2,0),(1,3,0)]),\n",
    "    2:([(2,1,0),(2,7,0)]),\n",
    "    3:([(3,1,0),(3,5,0),(3,6,0)]),\n",
    "    4:([(4,7,0),(4,8,0)]),\n",
    "    5:([(5,3,0),(5,7,0)]),\n",
    "    6:([(6,3,0),(6,8,0)]),\n",
    "    7:([(7,2,0),(7,4,0),(7,5,0)]),\n",
    "    8:([(8,4,0),(8,6,0)])\n",
    "    }\n",
    "\n",
    "dfs(A,V,S,1)   #starting element 1"
   ]
  },
  {
   "cell_type": "code",
   "execution_count": 2,
   "id": "9053913f",
   "metadata": {},
   "outputs": [
    {
     "name": "stdout",
     "output_type": "stream",
     "text": [
      "1\n",
      "2\n",
      "3\n",
      "7\n",
      "6\n",
      "5\n",
      "4\n",
      "8\n"
     ]
    }
   ],
   "source": [
    "def bfs(A,E):\n",
    "    Q=[E]\n",
    "    V={}\n",
    "    for i in A.keys():\n",
    "        V[i]=False\n",
    "    V[E]=True\n",
    "    while len(Q)!=0:\n",
    "        curr=Q.pop(0)\n",
    "        print(curr)\n",
    "        for i in A[curr]:\n",
    "            if V[i[1]]==False:\n",
    "                Q.append(i[1])\n",
    "                V[i[1]]=True\n",
    "\n",
    "A = {\n",
    "    1:([(1,2,0),(1,3,0)]),\n",
    "    2:([(2,1,0),(2,7,0)]),\n",
    "    3:([(3,1,0),(3,6,0),(3,5,0)]),\n",
    "    4:([(4,7,0),(4,8,0)]),\n",
    "    5:([(5,3,0),(5,7,0)]),\n",
    "    6:([(6,3,0),(6,8,0)]),\n",
    "    7:([(7,2,0),(7,5,0),(7,4,0)]),\n",
    "    8:([(8,4,0),(8,6,0)])\n",
    "    }\n",
    "bfs(A,1)"
   ]
  },
  {
   "cell_type": "code",
   "execution_count": 24,
   "id": "c1e6d6e5",
   "metadata": {},
   "outputs": [
    {
     "name": "stdout",
     "output_type": "stream",
     "text": [
      "1\n",
      "2\n",
      "3\n",
      "4\n",
      "5\n",
      "6\n",
      "7\n",
      "8\n",
      "9\n"
     ]
    }
   ],
   "source": [
    "#BST \n",
    "\n",
    "class node:\n",
    "    def __init__(self,data):\n",
    "        self.value=data\n",
    "        self.left=None\n",
    "        self.right=None\n",
    "        \n",
    "def BST(root,value):\n",
    "    if root==None:\n",
    "        return node(value)\n",
    "        \n",
    "    if value<root.value:\n",
    "        root.left=BST(root.left,value)\n",
    "    if value>root.value:\n",
    "        root.right= BST(root.right,value)\n",
    "        \n",
    "    return root\n",
    "\n",
    "\n",
    "def inorder(root):\n",
    "    if root:\n",
    "        inorder(root.left)\n",
    "        print(root.value)\n",
    "        inorder(root.right)\n",
    "\n",
    "    \n",
    "l=[4,6,7,3,8,2,5,9,1]       \n",
    "root=node(l.pop(0))\n",
    "for i in l:\n",
    "    BST(root,i)\n",
    "\n",
    "inorder(root)"
   ]
  },
  {
   "cell_type": "code",
   "execution_count": null,
   "id": "9a1312bd",
   "metadata": {},
   "outputs": [],
   "source": []
  }
 ],
 "metadata": {
  "kernelspec": {
   "display_name": "Python 3 (ipykernel)",
   "language": "python",
   "name": "python3"
  },
  "language_info": {
   "codemirror_mode": {
    "name": "ipython",
    "version": 3
   },
   "file_extension": ".py",
   "mimetype": "text/x-python",
   "name": "python",
   "nbconvert_exporter": "python",
   "pygments_lexer": "ipython3",
   "version": "3.11.5"
  }
 },
 "nbformat": 4,
 "nbformat_minor": 5
}
