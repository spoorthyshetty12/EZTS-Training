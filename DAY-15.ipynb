{
 "cells": [
  {
   "cell_type": "code",
   "execution_count": 2,
   "id": "f1a318b0",
   "metadata": {},
   "outputs": [
    {
     "name": "stdout",
     "output_type": "stream",
     "text": [
      "ABCAB\n",
      "[12, 15, 18]\n"
     ]
    }
   ],
   "source": [
    "#KMP algorithm\n",
    "S=\"ABABACDEABABABCABCABCABDAA\"\n",
    "p=input()\n",
    "n=len(p)\n",
    "index=[]\n",
    "for i in range(len(S)):\n",
    "    if S[i:i+n]==p:\n",
    "        index.append(i)\n",
    "print(index)"
   ]
  },
  {
   "cell_type": "code",
   "execution_count": 7,
   "id": "731542f3",
   "metadata": {},
   "outputs": [
    {
     "name": "stdout",
     "output_type": "stream",
     "text": [
      "[0, 0, 1, 2]\n"
     ]
    }
   ],
   "source": [
    "#KMP algorithm\n",
    "#LPS\n",
    "\n",
    "S=\"ABABACDEABABABCABCABCABDAA\"\n",
    "P=\"ABCAB\"\n",
    "l=[]\n",
    "j=0\n",
    "for i in range(1,len(P)):\n",
    "    if P[i]==P[j]:\n",
    "        l.append(j+1)\n",
    "        j+=1\n",
    "    else:\n",
    "        j=0\n",
    "        l.append(j)\n",
    "print(l)"
   ]
  },
  {
   "cell_type": "code",
   "execution_count": 1,
   "id": "2e9bceeb",
   "metadata": {},
   "outputs": [
    {
     "name": "stdout",
     "output_type": "stream",
     "text": [
      "[0, 0, 0, 1, 2]\n",
      "pattern found 12\n",
      "pattern found 15\n",
      "pattern found 18\n"
     ]
    }
   ],
   "source": [
    "def KMP(P,S):\n",
    "    M=len(P)\n",
    "    N=len(S)\n",
    "    lps=[]\n",
    "    LPS(P,M,lps)\n",
    "    print(lps)\n",
    "    i=0\n",
    "    j=0\n",
    "    while (N-i)>=(M-j):\n",
    "        if P[j]==S[i]:\n",
    "            i+=1\n",
    "            j+=1\n",
    "        \n",
    "        if j==M:\n",
    "            print(\"pattern found\",i-j)\n",
    "            j=lps[j-1]\n",
    "                \n",
    "        elif i<N and P[j]!=S[i]:\n",
    "            if j!=0:\n",
    "                j=lps[j-1]\n",
    "            else:\n",
    "                i+=1\n",
    "    \n",
    "\n",
    "def LPS(P,M,lps):\n",
    "    lps.append(0)\n",
    "    j=0\n",
    "    for i in range(1,len(P)):\n",
    "        if P[i]==P[j]:\n",
    "            lps.append(j+1)\n",
    "            j+=1\n",
    "        else:\n",
    "            j=0\n",
    "            lps.append(j)\n",
    "\n",
    "if __name__=='__main__':\n",
    "    S=\"ABABACDEABABABCABCABCABDAA\"\n",
    "    P=\"ABCAB\"\n",
    "    KMP(P,S)\n",
    "    "
   ]
  },
  {
   "cell_type": "code",
   "execution_count": 6,
   "id": "db7c50c8",
   "metadata": {},
   "outputs": [
    {
     "name": "stdout",
     "output_type": "stream",
     "text": [
      "move 1 from A to C\n",
      "move 2 from A to B\n",
      "move 1 from C to B\n",
      "move 3 from A to C\n",
      "move 1 from B to A\n",
      "move 2 from B to C\n",
      "move 1 from A to C\n"
     ]
    }
   ],
   "source": [
    "#TOWER OF HANOI\n",
    "\n",
    "def tower(n,frm,to,aux):\n",
    "    if n==0:\n",
    "        return\n",
    "    tower(n-1,frm,aux,to)\n",
    "    print(f\"move {n} from {frm} to {to}\")\n",
    "    tower(n-1,aux,to,frm)\n",
    "n=3\n",
    "tower(n,'A','C','B')"
   ]
  },
  {
   "cell_type": "code",
   "execution_count": 13,
   "id": "853014d6",
   "metadata": {},
   "outputs": [
    {
     "name": "stdout",
     "output_type": "stream",
     "text": [
      "move 1 from A to B\n",
      "move 2 from A to C\n",
      "move 1 from B to C\n",
      "move 3 from A to B\n",
      "move 1 from C to A\n",
      "move 2 from C to B\n",
      "move 1 from A to B\n",
      "move 4 from A to C\n",
      "move 1 from B to C\n",
      "move 2 from B to A\n",
      "move 1 from C to A\n",
      "move 3 from B to C\n",
      "move 1 from A to B\n",
      "move 2 from A to C\n",
      "move 1 from B to C\n",
      "[15]\n"
     ]
    }
   ],
   "source": [
    "ctr=[0]\n",
    "def tower(n,frm,to,aux,ctr):\n",
    "    if n==0:\n",
    "        return\n",
    "    tower(n-1,frm,aux,to,ctr)\n",
    "    print(f\"move {n} from {frm} to {to}\")\n",
    "    ctr[0]+=1\n",
    "    tower(n-1,aux,to,frm,ctr)\n",
    "n=4\n",
    "tower(n,'A','C','B',ctr)\n",
    "print(ctr)"
   ]
  },
  {
   "cell_type": "code",
   "execution_count": 10,
   "id": "9f0d6faa",
   "metadata": {},
   "outputs": [
    {
     "data": {
      "text/plain": [
       "18446744073709551615"
      ]
     },
     "execution_count": 10,
     "metadata": {},
     "output_type": "execute_result"
    }
   ],
   "source": [
    "(2**64)-1"
   ]
  },
  {
   "cell_type": "code",
   "execution_count": 20,
   "id": "18dddded",
   "metadata": {},
   "outputs": [
    {
     "name": "stdout",
     "output_type": "stream",
     "text": [
      "move 1 from A to B\n",
      "1\n",
      "[1]\n",
      "move 2 from A to C\n",
      "1\n",
      "[2]\n",
      "move 1 from B to C\n",
      "2\n",
      "[3]\n",
      "move 3 from A to B\n",
      "1\n",
      "[4]\n",
      "move 1 from C to A\n",
      "2\n",
      "[5]\n",
      "move 2 from C to B\n",
      "2\n",
      "[6]\n",
      "move 1 from A to B\n",
      "3\n",
      "[7]\n",
      "move 4 from A to C\n",
      "1\n",
      "[8]\n",
      "move 1 from B to C\n",
      "2\n",
      "[9]\n",
      "move 2 from B to A\n",
      "2\n",
      "[10]\n",
      "move 1 from C to A\n",
      "3\n",
      "[11]\n",
      "move 3 from B to C\n",
      "2\n",
      "[12]\n",
      "move 1 from A to B\n",
      "3\n",
      "[13]\n",
      "move 2 from A to C\n",
      "3\n",
      "[14]\n",
      "move 1 from B to C\n",
      "4\n",
      "[15]\n",
      "0\n"
     ]
    }
   ],
   "source": [
    "ctr=0\n",
    "ctr1=[0]         #name of the list is pointer to itself\n",
    "def tower(n,frm,to,aux,ctr):\n",
    "    if n==0:\n",
    "        return\n",
    "    tower(n-1,frm,aux,to,ctr)\n",
    "    print(f\"move {n} from {frm} to {to}\")\n",
    "    ctr+=1\n",
    "    ctr1[0]+=1         \n",
    "    print(ctr)\n",
    "    print(ctr1)\n",
    "    tower(n-1,aux,to,frm,ctr)\n",
    "\n",
    "n=4\n",
    "tower(n,'A','C','B',ctr)\n",
    "print(ctr)"
   ]
  },
  {
   "cell_type": "code",
   "execution_count": null,
   "id": "f3c1ffe4",
   "metadata": {},
   "outputs": [],
   "source": []
  }
 ],
 "metadata": {
  "kernelspec": {
   "display_name": "Python 3 (ipykernel)",
   "language": "python",
   "name": "python3"
  },
  "language_info": {
   "codemirror_mode": {
    "name": "ipython",
    "version": 3
   },
   "file_extension": ".py",
   "mimetype": "text/x-python",
   "name": "python",
   "nbconvert_exporter": "python",
   "pygments_lexer": "ipython3",
   "version": "3.11.5"
  }
 },
 "nbformat": 4,
 "nbformat_minor": 5
}
