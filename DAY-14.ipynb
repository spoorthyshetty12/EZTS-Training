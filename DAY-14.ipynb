{
 "cells": [
  {
   "cell_type": "code",
   "execution_count": 6,
   "id": "5ed7fe66",
   "metadata": {},
   "outputs": [
    {
     "name": "stdout",
     "output_type": "stream",
     "text": [
      "[(0, 1), (0, 2), (0, 3), (1, 4), (2, 1), (2, 4), (3, 2), (3, 5), (4, 5)]\n",
      "{0: 0, 1: inf, 2: inf, 3: inf, 4: inf, 5: inf}\n",
      "{0: 0, 1: 1, 2: 3, 3: 5, 4: 0, 5: 3}\n"
     ]
    }
   ],
   "source": [
    "#BELLMAN FORD AlGORITHM\n",
    "\n",
    "graph=[\n",
    "       [0,6,4,5,False,False],\n",
    "       [False,0,False,False,-1,False],\n",
    "       [False,-2,0,False,3,False],\n",
    "       [False,False,-2,0,False,-1],\n",
    "       [False,False,False,False,0,3],\n",
    "       [False,False,False,False,False,0]\n",
    "    ]\n",
    "\n",
    "#d={0:\"A\",1:\"B\",2:\"C\",3:\"D\",4:\"E\",5:\"F\"}\n",
    "\n",
    "E_L=[]\n",
    "for i in range(len(graph)):\n",
    "    for j in range(len(graph[i])):\n",
    "        if graph[i][j]!=False and graph[i][j]!=0:\n",
    "            E_L.append(tuple((i,j)))\n",
    "print(E_L)\n",
    "\n",
    "dist={}\n",
    "for i in range(len(graph)):\n",
    "    dist[i]=float(\"inf\")\n",
    "\n",
    "    \n",
    "dist[0]=0\n",
    "print(dist)\n",
    "for i in range(len(graph)-1):\n",
    "    for j in E_L:\n",
    "        new_dist=dist[j[0]]+graph[j[0]][j[1]]\n",
    "        if dist[j[1]]>new_dist:\n",
    "            dist[j[1]]=new_dist\n",
    "            \n",
    "print(dist)   "
   ]
  },
  {
   "cell_type": "code",
   "execution_count": 3,
   "id": "eeb7ee65",
   "metadata": {},
   "outputs": [
    {
     "name": "stdout",
     "output_type": "stream",
     "text": [
      "[0, 6, 10, 5, 8, 11, 8, 2, 16, 10]\n"
     ]
    }
   ],
   "source": [
    "#dijkstra algorithm\n",
    "#v.v.imp\n",
    "G=[\n",
    "    [0,7,False,False,False,False,False,2,False,False],\n",
    "    [7,0,4,1,False,5,False,False,False,False],\n",
    "    [False,4,0,False,False,False,False,8,False,False],\n",
    "    [False,1,False,0,6,8,3,3,False,False],\n",
    "    [False,False,False,6,0,False,False,6,8,False],\n",
    "    [False,5,False,8,False,0,False,False,False,False],\n",
    "    [False,False,False,3,False,False,0,False,9,2],\n",
    "    [2,False,8,3,6,False,False,0,False,False],\n",
    "    [False,False,False,False,8,False,9,False,0,False],\n",
    "    [False,False,False,False,False,False,2,False,False,0]\n",
    "]\n",
    "temp={}\n",
    "for i in range(len(G)):\n",
    "    temp[i]=float(\"inf\")\n",
    "Dist=[float(\"inf\")]*len(G)\n",
    "\n",
    "temp[0]=0\n",
    "while len(temp)>0:\n",
    "    min_value=min(temp.values())\n",
    "    min_key=min(temp,key=temp.get)\n",
    "    temp.pop(min_key)\n",
    "    Dist[min_key]=min_value\n",
    "    for j in range(len(G[min_key])):\n",
    "        if G[min_key][j]!=False and G[min_key][j]!=0:\n",
    "            new_dist=min_value+G[min_key][j]\n",
    "            if j in temp.keys() and temp[j]>new_dist:\n",
    "                temp[j]=new_dist\n",
    "print(Dist)"
   ]
  },
  {
   "cell_type": "code",
   "execution_count": 1,
   "id": "237d49f2",
   "metadata": {},
   "outputs": [
    {
     "name": "stdout",
     "output_type": "stream",
     "text": [
      "Minimum cost=  19\n"
     ]
    }
   ],
   "source": [
    "##Example for dynamic programming using recursion\n",
    "\n",
    "import sys\n",
    "\n",
    "def cost(curr,VL,G,dp):\n",
    "    n=len(G)\n",
    "    if len(VL)==n:\n",
    "        return G[curr][0]\n",
    "    visit=tuple(VL)\n",
    "    if(curr,visit) in dp:\n",
    "        return dp[(curr,visit)]\n",
    "        \n",
    "    mim = sys.maxsize\n",
    "    for i in range(n):\n",
    "        if i not in VL:\n",
    "            new_visit=VL+[i]\n",
    "            new_cost=G[curr][i]+cost(i,new_visit,G,dp)\n",
    "            mim=min(mim,new_cost)\n",
    "    dp[(curr,visit)]=mim\n",
    "    return mim\n",
    "\n",
    "\n",
    "G=[ [0,4,7,5,5],\n",
    "    [4,0,2,4,8],\n",
    "    [7,2,0,3,3],\n",
    "    [5,4,3,0,6],\n",
    "    [5,8,3,6,0]]\n",
    "n=len(G)\n",
    "dp={}\n",
    "print(\"Minimum cost= \",cost(0,[0],G,dp))"
   ]
  },
  {
   "cell_type": "code",
   "execution_count": 3,
   "id": "0d6366e3",
   "metadata": {},
   "outputs": [
    {
     "name": "stdout",
     "output_type": "stream",
     "text": [
      "5\n"
     ]
    }
   ],
   "source": [
    "S=\"ADDCMABABCANFDKABABCNCKABABACADKFJUGF\"\n",
    "print(S.index(\"ABABCA\"))"
   ]
  },
  {
   "cell_type": "code",
   "execution_count": null,
   "id": "23facf74",
   "metadata": {},
   "outputs": [],
   "source": []
  }
 ],
 "metadata": {
  "kernelspec": {
   "display_name": "Python 3 (ipykernel)",
   "language": "python",
   "name": "python3"
  },
  "language_info": {
   "codemirror_mode": {
    "name": "ipython",
    "version": 3
   },
   "file_extension": ".py",
   "mimetype": "text/x-python",
   "name": "python",
   "nbconvert_exporter": "python",
   "pygments_lexer": "ipython3",
   "version": "3.11.5"
  }
 },
 "nbformat": 4,
 "nbformat_minor": 5
}
