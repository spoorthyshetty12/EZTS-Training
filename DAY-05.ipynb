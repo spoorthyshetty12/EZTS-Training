{
 "cells": [
  {
   "cell_type": "code",
   "execution_count": 6,
   "id": "36860b8a",
   "metadata": {},
   "outputs": [
    {
     "name": "stdout",
     "output_type": "stream",
     "text": [
      "[10, 20, 30, 40, 50]\n",
      "50\n",
      "[10, 20, 30, 40]\n",
      "4\n"
     ]
    }
   ],
   "source": [
    "class Stack:\n",
    "    def __init__(self):\n",
    "        self.items = []\n",
    "    def push(self,data):\n",
    "        self.items.append(data)\n",
    "    def pop(self):\n",
    "        return self.items.pop()\n",
    "    def size(self):\n",
    "        return len(self.items)\n",
    "    \n",
    "s=Stack()\n",
    "s.push(10)\n",
    "s.push(20)\n",
    "s.push(30)\n",
    "s.push(40)\n",
    "s.push(50)\n",
    "\n",
    "print(s.items)\n",
    "print(s.pop())\n",
    "print(s.items)\n",
    "print(s.size())"
   ]
  },
  {
   "cell_type": "code",
   "execution_count": null,
   "id": "5fed7789",
   "metadata": {},
   "outputs": [],
   "source": [
    "A Student is given a task to create some mathematical expression for BODMAS . but due to some other work he forgot to do \n",
    "that but in the night he clicked that he have to create some expression for BODMAS due to sleepy mood he did some mistake \n",
    "while putting the brackets. your job is to check whether the expression given by that boy is valid or not \n",
    "\n",
    "Sample_input = [3+7{52/11(3+5)}] valid expression as all the brackets are properly open and clodse \n",
    "[4-6{235(9+6)}] invalid expression as some brackets are not proper."
   ]
  },
  {
   "cell_type": "code",
   "execution_count": 8,
   "id": "1137d443",
   "metadata": {},
   "outputs": [
    {
     "name": "stdout",
     "output_type": "stream",
     "text": [
      "None\n"
     ]
    }
   ],
   "source": [
    "# the way of storing data is called data structure \n",
    "# parenthesis checker \n",
    "\n",
    "class student:\n",
    "    def __init__(self):\n",
    "        self.items=[]\n",
    "    def push(self,data):\n",
    "        if data == \"(\" or \"{\" or \"[\" :\n",
    "            self.items.append(data)\n",
    "            \n",
    "    def pop():\n",
    "        if data == \")\" or \"}\" or \"]\":\n",
    "            self.items.pop()\n",
    "s=student()\n",
    "print(s.push([(3)]))"
   ]
  },
  {
   "cell_type": "code",
   "execution_count": 26,
   "id": "6545b397",
   "metadata": {},
   "outputs": [
    {
     "name": "stdout",
     "output_type": "stream",
     "text": [
      "valid\n",
      "[]\n"
     ]
    }
   ],
   "source": [
    "class Stack:\n",
    "    def __init__(self):\n",
    "        self.items = []\n",
    "    def push(self,data):\n",
    "        self.items.append(data)\n",
    "    def pop(self):\n",
    "        return self.items.pop()\n",
    "    def size(self):\n",
    "        return len(self.items)\n",
    "    \n",
    "s=Stack()\n",
    "s.push(10)\n",
    "s.push(20)\n",
    "s.push(30)\n",
    "s.push(40)\n",
    "s.push(50)\n",
    "\n",
    "print(s.items)\n",
    "print(s.pop())\n",
    "print(s.items)\n",
    "print(s.size())\n",
    "\n",
    "e= \"[3+7{52/11(3+5)}]\"\n",
    "s=Stack()\n",
    "flag=0\n",
    "ob=\"[{(\"\n",
    "cb=\"]})\"\n",
    "for i in e:\n",
    "    if i in ob :\n",
    "        s.push(i)\n",
    "    if i in cb :\n",
    "        x = s.pop()\n",
    "        if x == \"(\" and i == \")\":\n",
    "            pass\n",
    "        elif x == \"{\" and i == \"}\":\n",
    "            pass\n",
    "        elif x == \"[\" and i == \"]\":\n",
    "            pass\n",
    "        else:\n",
    "            flag = 1\n",
    "            break\n",
    "if(flag == 0 and s.size() == 0):\n",
    "    print(\"valid\")\n",
    "else:\n",
    "    print(\"invalid\")\n",
    "print(s.items)"
   ]
  },
  {
   "cell_type": "code",
   "execution_count": null,
   "id": "d2ac191d",
   "metadata": {},
   "outputs": [],
   "source": [
    "I a type factory many workers are working there each worker is assigned with a integer number which help them to find their\n",
    "supervisor\n",
    "the project manager having an array that consists of an integer numbers help the project manager to find thier supervisores.\n",
    "supervisor will be assigned as the first largest integer find on the right side f the array if not found return -1."
   ]
  },
  {
   "cell_type": "code",
   "execution_count": 2,
   "id": "792d9da3",
   "metadata": {},
   "outputs": [
    {
     "name": "stdout",
     "output_type": "stream",
     "text": [
      "[5, 14, 14, -1, 7, 7, 9, -1, 6, 9, -1, 5, 5, -1, -1]\n"
     ]
    }
   ],
   "source": [
    "class Stack:\n",
    "    def __init__(self):\n",
    "        self.items = []\n",
    "    def push(self,data):\n",
    "        self.items.append(data)\n",
    "    def pop(self):\n",
    "        return self.items.pop()\n",
    "    def size(self):\n",
    "        return len(self.items)\n",
    "    def top(self):\n",
    "        return self.items[-1]\n",
    "L=[3,5,2,14,5,3,7,9,4,6,9,4,2,5,3]\n",
    "o=[0]*len(L)\n",
    "s=Stack()\n",
    "for i in range(len(L)-1,-1,-1):\n",
    "    while s.size() != 0 and s.top() <= L[i]:\n",
    "        if s.top() <= L[i]:\n",
    "            s.pop()\n",
    "    if s.size() == 0:\n",
    "        o[i] = -1\n",
    "    else:\n",
    "        o[i]=s.top()\n",
    "    s.push(L[i])\n",
    "print(o)"
   ]
  },
  {
   "cell_type": "code",
   "execution_count": 3,
   "id": "b4467f59",
   "metadata": {},
   "outputs": [],
   "source": [
    "# QUEUE\n",
    "# practicle implementation is songs , searching , downloding data , learning concepts , youtube video , watching a playlist \n",
    "class Queue:\n",
    "    def __init__(self):\n",
    "        self.items = []\n",
    "    def push(self,data):\n",
    "        self.items.append(data)\n",
    "    def pop(self):\n",
    "        return self.items.pop()\n",
    "    def size(self):\n",
    "        return len(self.items)\n"
   ]
  },
  {
   "cell_type": "markdown",
   "id": "98108cff",
   "metadata": {},
   "source": [
    "#### LINK LIST\n",
    "it is mainly used for the memory allocation . it is used mostly when the data is been taken from the cpu processor "
   ]
  },
  {
   "cell_type": "code",
   "execution_count": 16,
   "id": "e8104712",
   "metadata": {},
   "outputs": [
    {
     "name": "stdout",
     "output_type": "stream",
     "text": [
      "<__main__.Node object at 0x0000029EBFA0BB90>\n",
      "<__main__.Node object at 0x0000029EBFA4F0D0>\n"
     ]
    }
   ],
   "source": [
    "class Node:\n",
    "    def __init__(self,data):\n",
    "        self.value = data \n",
    "        self.next=None\n",
    "# head=Node(10)\n",
    "# head=head.next(20)\n",
    "# head=head.next.next(30)\n",
    "\n",
    "head=tail=Node(10)\n",
    "tail.next=Node(20)\n",
    "tail=tail.next\n",
    "tail.next=Node(30)\n",
    "tail=tail.next\n",
    "tail.next=Node(40)\n",
    "tail=tail.next\n",
    "tail.next=Node(50)\n",
    "tail=tail.next\n",
    "print(head)\n",
    "print(tail)"
   ]
  },
  {
   "cell_type": "code",
   "execution_count": 5,
   "id": "7aed7580",
   "metadata": {},
   "outputs": [],
   "source": [
    "class Link_list:\n",
    "    def __init__(self,data):\n",
    "        self.value=data\n",
    "        self.next=None\n",
    "        \n",
    "    def insert_front(self):\n",
    "        temp.next=head \n",
    "        head=temp\n",
    "        return \n",
    "    def insert_middle(Self):\n",
    "        temp.next=curr.next\n",
    "        curr.nex=temp\n",
    "        return \n",
    "    def insert_end(self):\n",
    "        tail.next=temp\n",
    "        tail=temp\n",
    "        return \n",
    "    \n",
    "    \n",
    "    def delete_front(self):\n",
    "        head=head.next\n",
    "        return\n",
    "    def delete_middle(self):\n",
    "        prev.next=curr.next\n",
    "        return\n",
    "    def delete_end(self):\n",
    "        while curr.next.next != None:\n",
    "            curr.next=tail\n",
    "        return \n",
    "l=Link_list(10)"
   ]
  },
  {
   "cell_type": "code",
   "execution_count": 22,
   "id": "3398892c",
   "metadata": {},
   "outputs": [
    {
     "name": "stdout",
     "output_type": "stream",
     "text": [
      "2-2\n",
      "Substraction\n"
     ]
    }
   ],
   "source": [
    "s=input()\n",
    "op=[\"+\",\"-\",\"*\",\"/\"]\n",
    "for i in s:\n",
    "    if i in op:\n",
    "        x=i\n",
    "        s=s.replace(i,\" \")\n",
    "L=list(map(float,s.split(\" \")))\n",
    "match x:\n",
    "    case \"+\" : print(\"Addition\")\n",
    "    case \"-\" : print(\"Substraction\")\n",
    "    case \"*\" : print(\"multiplication\")\n",
    "    case \"/\" : print(\"Division\")\n",
    "    case _ : print(\"Invalid\") "
   ]
  },
  {
   "cell_type": "code",
   "execution_count": null,
   "id": "b7cf3eff",
   "metadata": {},
   "outputs": [],
   "source": []
  }
 ],
 "metadata": {
  "kernelspec": {
   "display_name": "Python 3 (ipykernel)",
   "language": "python",
   "name": "python3"
  },
  "language_info": {
   "codemirror_mode": {
    "name": "ipython",
    "version": 3
   },
   "file_extension": ".py",
   "mimetype": "text/x-python",
   "name": "python",
   "nbconvert_exporter": "python",
   "pygments_lexer": "ipython3",
   "version": "3.11.5"
  }
 },
 "nbformat": 4,
 "nbformat_minor": 5
}
