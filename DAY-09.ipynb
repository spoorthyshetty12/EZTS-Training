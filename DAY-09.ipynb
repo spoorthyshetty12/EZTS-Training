{
 "cells": [
  {
   "cell_type": "code",
   "execution_count": 4,
   "id": "dfc1b0cc",
   "metadata": {},
   "outputs": [
    {
     "name": "stdout",
     "output_type": "stream",
     "text": [
      "0\n",
      "7\n",
      "12\n",
      "17\n",
      "19\n",
      "21\n",
      "23\n",
      "27\n",
      "29\n",
      "34\n",
      "38\n",
      "75\n",
      "99\n",
      "100\n",
      "134\n",
      "143\n"
     ]
    }
   ],
   "source": [
    "#AVL tree\n",
    "\n",
    "class node:                #class for tree node\n",
    "    def __init__(self,data):\n",
    "        self.value=data\n",
    "        self.left=None\n",
    "        self.right=None\n",
    "        self.height=1\n",
    "        \n",
    "def insert(root,key):\n",
    "    if not root:\n",
    "        return node(key)\n",
    "    if  key<root.value:\n",
    "        root.left=insert(root.left,key)\n",
    "    else:\n",
    "        root.right=insert(root.right,key)\n",
    "    \n",
    "    root.height = 1+max(ght(root.left),ght(root.right))\n",
    "    \n",
    "    BF=getBF(root)\n",
    "    \n",
    "    #RR rotation\n",
    "    if BF>1 and key < root.left.value:    \n",
    "        return rightRotate(root)\n",
    "    \n",
    "    #RL rotation\n",
    "    if BF>1 and key > root.left.value:    \n",
    "        root.left = leftRotate(root.left)\n",
    "        return rightRotate(root)\n",
    "    \n",
    "    #LL rotation\n",
    "    if BF<-1 and key > root.right.value:  \n",
    "        return leftRotate(root)\n",
    "    \n",
    "    #LR rotation\n",
    "    if BF<-1 and key < root.right.value:   \n",
    "        root.right = rightRotate(root.right)\n",
    "        return leftRotate(root)\n",
    "    \n",
    "    return root\n",
    "\n",
    "\n",
    "def ght(root):\n",
    "    if not root:\n",
    "        return 0\n",
    "    return root.height\n",
    "\n",
    "def getBF(root):\n",
    "    if not root:\n",
    "        return 0\n",
    "    return ght(root.left)-ght(root.right)\n",
    "\n",
    "def leftRotate(A):\n",
    "    B=A.right\n",
    "    temp=B.left\n",
    "    \n",
    "    B.left=A\n",
    "    A.right=temp\n",
    "    \n",
    "    A.height = 1+max(ght(A.left),ght(A.right))\n",
    "    B.height = 1+max(ght(B.left),ght(B.right))\n",
    "    \n",
    "    return B\n",
    "    \n",
    "def rightRotate(A):\n",
    "    B=A.left\n",
    "    temp=B.right\n",
    "    \n",
    "    B.right=A\n",
    "    A.left=temp\n",
    "    \n",
    "    A.height = 1+max(ght(A.left),ght(A.right))\n",
    "    B.height = 1+max(ght(B.left),ght(B.right))\n",
    "    \n",
    "    return B\n",
    "        \n",
    "def inorder(root):       #print the data in inorder format\n",
    "    if not root:\n",
    "        return\n",
    "    inorder(root.left)\n",
    "    print(root.value)\n",
    "    inorder(root.right)\n",
    "    \n",
    "        \n",
    "if __name__==\"__main__\":\n",
    "    root=None\n",
    "    vl=[19,99,75,7,21,34,38,23,27,134,100,29,0,12,17,143]\n",
    "    for i in vl:\n",
    "        root=insert(root,i)\n",
    "        \n",
    "    inorder(root)"
   ]
  },
  {
   "cell_type": "markdown",
   "id": "13b58b45",
   "metadata": {},
   "source": [
    "# Calculate the maximum number of commas used when printing the integers from 1 to 1,00,000(inclusive).\n",
    "#Assume that each number is printed with the appropriate thousands separator.\n",
    "\n"
   ]
  },
  {
   "cell_type": "code",
   "execution_count": 2,
   "id": "7d0f3aaa",
   "metadata": {},
   "outputs": [
    {
     "name": "stdout",
     "output_type": "stream",
     "text": [
      "2\n"
     ]
    }
   ],
   "source": [
    "n=('12,345,678')\n",
    "l=n.count(',')\n",
    "print(l)\n",
    "    "
   ]
  },
  {
   "cell_type": "markdown",
   "id": "06b94f2e",
   "metadata": {},
   "source": [
    "# minimum positive integer"
   ]
  },
  {
   "cell_type": "code",
   "execution_count": 12,
   "id": "56d5b1c2",
   "metadata": {},
   "outputs": [
    {
     "name": "stdout",
     "output_type": "stream",
     "text": [
      "1\n"
     ]
    }
   ],
   "source": [
    "n=[5,7,-10,-3,0,3,-5,1]\n",
    "n.sort()\n",
    "for i in range(len(n)+1):\n",
    "    if n[i]>0:\n",
    "        print(n[i])\n",
    "        break"
   ]
  },
  {
   "cell_type": "code",
   "execution_count": 18,
   "id": "96c038f0",
   "metadata": {},
   "outputs": [
    {
     "name": "stdout",
     "output_type": "stream",
     "text": [
      "2,67,9,67,4,6\n",
      "2\n"
     ]
    }
   ],
   "source": [
    "n=list(map(int,input().split(',')))\n",
    "n.sort()\n",
    "for i in range(len(n)+1):\n",
    "    if n[i]>0:\n",
    "        print(n[i])\n",
    "        break"
   ]
  },
  {
   "cell_type": "markdown",
   "id": "38e07f80",
   "metadata": {},
   "source": [
    "# first missing positive"
   ]
  },
  {
   "cell_type": "code",
   "execution_count": 17,
   "id": "4544db99",
   "metadata": {},
   "outputs": [
    {
     "name": "stdout",
     "output_type": "stream",
     "text": [
      "2\n"
     ]
    }
   ],
   "source": [
    "n=[5,7,-10,-3,0,3,-5,1]\n",
    "n.sort()\n",
    "result=1\n",
    "for i in n:\n",
    "    if result==i:\n",
    "        result+=1\n",
    "print(result)"
   ]
  },
  {
   "cell_type": "code",
   "execution_count": 19,
   "id": "5efe154d",
   "metadata": {},
   "outputs": [
    {
     "name": "stdout",
     "output_type": "stream",
     "text": [
      "1,-1,0,2\n",
      "3\n"
     ]
    }
   ],
   "source": [
    "n=list(map(int,input().split(',')))\n",
    "n.sort()\n",
    "result=1\n",
    "for i in n:\n",
    "    if result==i:\n",
    "        result+=1\n",
    "print(result)"
   ]
  },
  {
   "cell_type": "code",
   "execution_count": 20,
   "id": "d356feb7",
   "metadata": {},
   "outputs": [
    {
     "name": "stdout",
     "output_type": "stream",
     "text": [
      "enter the no of continious digit5\n",
      "8\n",
      "6\n",
      "-2\n",
      "-1\n",
      "3\n",
      "2\n"
     ]
    }
   ],
   "source": [
    "n=[4,-1,-3,6,-2,-1,3,2,-8,-2]\n",
    "k=int(input(\"enter the no of continious digit\"))\n",
    "sum=max=0\n",
    "for i in range(0,len(n)-(k-1)):\n",
    "    sum=0\n",
    "    for j in range(0,k):\n",
    "        sum+=n[i+j]\n",
    "    if max<sum:\n",
    "        max=sum\n",
    "        p=i\n",
    "print(max)\n",
    "for j in range(0,k):\n",
    "    print(n[p+j])"
   ]
  },
  {
   "cell_type": "code",
   "execution_count": 27,
   "id": "1e2da3a0",
   "metadata": {},
   "outputs": [
    {
     "name": "stdout",
     "output_type": "stream",
     "text": [
      "36\n",
      "6\n",
      "-2\n",
      "-1\n",
      "3\n",
      "2\n",
      "-8\n",
      "-2\n"
     ]
    },
    {
     "ename": "IndexError",
     "evalue": "list index out of range",
     "output_type": "error",
     "traceback": [
      "\u001b[1;31m---------------------------------------------------------------------------\u001b[0m",
      "\u001b[1;31mIndexError\u001b[0m                                Traceback (most recent call last)",
      "Cell \u001b[1;32mIn[27], line 13\u001b[0m\n\u001b[0;32m     11\u001b[0m \u001b[38;5;28mprint\u001b[39m(\u001b[38;5;28mmax\u001b[39m)\n\u001b[0;32m     12\u001b[0m \u001b[38;5;28;01mfor\u001b[39;00m j \u001b[38;5;129;01min\u001b[39;00m \u001b[38;5;28mrange\u001b[39m(\u001b[38;5;241m0\u001b[39m,k\u001b[38;5;241m+\u001b[39m\u001b[38;5;241m1\u001b[39m):\n\u001b[1;32m---> 13\u001b[0m     \u001b[38;5;28mprint\u001b[39m(n[p\u001b[38;5;241m+\u001b[39mj])\n",
      "\u001b[1;31mIndexError\u001b[0m: list index out of range"
     ]
    }
   ],
   "source": [
    "n=[4,-1,-3,6,-2,-1,3,2,-8,-2]\n",
    "sum=max=0\n",
    "for i in n:\n",
    "    for j in range(i,len(n)):\n",
    "        sum=0\n",
    "        for k in range(i,j):\n",
    "            sum+=n[i]\n",
    "            if max<=sum:\n",
    "                max=sum\n",
    "                p=i\n",
    "print(max)\n",
    "for j in range(0,k):\n",
    "    print(n[p+j])\n",
    "   "
   ]
  },
  {
   "cell_type": "code",
   "execution_count": 28,
   "id": "2ce3944d",
   "metadata": {},
   "outputs": [
    {
     "name": "stdout",
     "output_type": "stream",
     "text": [
      "55\n"
     ]
    }
   ],
   "source": [
    "#kayden's algorithm\n",
    "n=[4,-1,-3,6,-2,-1,3,2,-8,-2]\n",
    "c=0\n",
    "max=0\n",
    "for i in range(0,len(n)+1):\n",
    "    c+=i\n",
    "    if max<c:\n",
    "        max=c\n",
    "    if c<0:\n",
    "        c=0\n",
    "print(max)"
   ]
  },
  {
   "cell_type": "code",
   "execution_count": null,
   "id": "f0c7a543",
   "metadata": {},
   "outputs": [],
   "source": []
  }
 ],
 "metadata": {
  "kernelspec": {
   "display_name": "Python 3 (ipykernel)",
   "language": "python",
   "name": "python3"
  },
  "language_info": {
   "codemirror_mode": {
    "name": "ipython",
    "version": 3
   },
   "file_extension": ".py",
   "mimetype": "text/x-python",
   "name": "python",
   "nbconvert_exporter": "python",
   "pygments_lexer": "ipython3",
   "version": "3.11.5"
  }
 },
 "nbformat": 4,
 "nbformat_minor": 5
}
